{
 "cells": [
  {
   "cell_type": "markdown",
   "metadata": {},
   "source": [
    "# Word2vec\n",
    "\n",
    "In this work you will calculate word embeddings with neural model and compare its results with LSA.\n",
    "\n",
    "Code from [Mateusz Bednarski](https://towardsdatascience.com/implementing-word2vec-in-pytorch-skip-gram-model-e6bae040d2fb) article is used."
   ]
  },
  {
   "cell_type": "code",
   "execution_count": 2,
   "metadata": {},
   "outputs": [
    {
     "name": "stdout",
     "output_type": "stream",
     "text": [
      "env: LC_ALL=en_US.UTF-8\n",
      "env: LANG=en_US.UTF-8\n"
     ]
    }
   ],
   "source": [
    "%env LC_ALL=en_US.UTF-8\n",
    "%env LANG=en_US.UTF-8\n",
    "\n",
    "import nltk\n",
    "import torch\n",
    "from torch.autograd import Variable\n",
    "import torch.nn.functional as F\n",
    "import numpy as np\n",
    "import matplotlib.pyplot as plt\n",
    "%matplotlib inline\n",
    "plt.rcParams['figure.figsize'] = [10, 10]"
   ]
  },
  {
   "cell_type": "code",
   "execution_count": 1,
   "metadata": {
    "collapsed": true
   },
   "outputs": [],
   "source": [
    "from nltk import word_tokenize\n",
    "corpus = [\n",
    "    'he is a king',\n",
    "    'she is a queen',\n",
    "    'he is a man',\n",
    "    'she is a woman',\n",
    "    'warsaw is poland capital',\n",
    "    'berlin is germany capital',\n",
    "    'paris is france capital',\n",
    "]\n",
    "tokenized_corpus = list(map(word_tokenize, corpus))"
   ]
  },
  {
   "cell_type": "code",
   "execution_count": 4,
   "metadata": {
    "collapsed": true
   },
   "outputs": [],
   "source": [
    "vocabulary = []\n",
    "for sentence in tokenized_corpus:\n",
    "    for token in sentence:\n",
    "        if token not in vocabulary:\n",
    "            vocabulary.append(token)\n",
    "\n",
    "word2idx = {w: idx for (idx, w) in enumerate(vocabulary)}\n",
    "idx2word = {idx: w for (idx, w) in enumerate(vocabulary)}\n",
    "\n",
    "vocabulary_size = len(vocabulary)"
   ]
  },
  {
   "cell_type": "code",
   "execution_count": 5,
   "metadata": {
    "collapsed": true
   },
   "outputs": [],
   "source": [
    "window_size = 2\n",
    "idx_pairs = []\n",
    "# for each sentence\n",
    "for sentence in tokenized_corpus:\n",
    "    indices = [word2idx[word] for word in sentence]\n",
    "    # for each word, threated as center word\n",
    "    for center_word_pos in range(len(indices)):\n",
    "        # for each window position\n",
    "        for w in range(-window_size, window_size + 1):\n",
    "            context_word_pos = center_word_pos + w\n",
    "            # make soure not jump out sentence\n",
    "            if context_word_pos < 0 or context_word_pos >= len(indices) or center_word_pos == context_word_pos:\n",
    "                continue\n",
    "            context_word_idx = indices[context_word_pos]\n",
    "            idx_pairs.append((indices[center_word_pos], context_word_idx))\n",
    "\n",
    "idx_pairs = np.array(idx_pairs)"
   ]
  },
  {
   "cell_type": "code",
   "execution_count": 6,
   "metadata": {
    "collapsed": true
   },
   "outputs": [],
   "source": [
    "def get_input_layer(word_idx):\n",
    "    x = torch.zeros(vocabulary_size).float()\n",
    "    x[word_idx] = 1.0\n",
    "    return x"
   ]
  },
  {
   "cell_type": "code",
   "execution_count": 7,
   "metadata": {},
   "outputs": [
    {
     "name": "stderr",
     "output_type": "stream",
     "text": [
      "/Users/anatolii.stehnii/anaconda3/lib/python3.6/site-packages/ipykernel_launcher.py:19: UserWarning: invalid index of a 0-dim tensor. This will be an error in PyTorch 0.5. Use tensor.item() to convert a 0-dim tensor to a Python number\n"
     ]
    },
    {
     "name": "stdout",
     "output_type": "stream",
     "text": [
      "Loss at epo 0: 3.5163509845733643\n",
      "Loss at epo 10: 3.366441011428833\n",
      "Loss at epo 20: 3.2494847774505615\n",
      "Loss at epo 30: 3.155801773071289\n",
      "Loss at epo 40: 3.0792462825775146\n",
      "Loss at epo 50: 3.0156049728393555\n",
      "Loss at epo 60: 2.9618518352508545\n",
      "Loss at epo 70: 2.915764808654785\n",
      "Loss at epo 80: 2.8756775856018066\n",
      "Loss at epo 90: 2.8403329849243164\n",
      "Loss at epo 100: 2.808767080307007\n",
      "Loss at epo 110: 2.780237913131714\n",
      "Loss at epo 120: 2.7541699409484863\n",
      "Loss at epo 130: 2.730113983154297\n",
      "Loss at epo 140: 2.7077176570892334\n",
      "Loss at epo 150: 2.686706066131592\n",
      "Loss at epo 160: 2.666868209838867\n",
      "Loss at epo 170: 2.6480331420898438\n",
      "Loss at epo 180: 2.6300718784332275\n",
      "Loss at epo 190: 2.612882137298584\n",
      "Loss at epo 200: 2.5963799953460693\n",
      "Loss at epo 210: 2.5804965496063232\n",
      "Loss at epo 220: 2.565176486968994\n",
      "Loss at epo 230: 2.550365447998047\n",
      "Loss at epo 240: 2.5360186100006104\n",
      "Loss at epo 250: 2.522095203399658\n",
      "Loss at epo 260: 2.5085573196411133\n",
      "Loss at epo 270: 2.495373487472534\n",
      "Loss at epo 280: 2.4825172424316406\n",
      "Loss at epo 290: 2.4699647426605225\n",
      "Loss at epo 300: 2.4576973915100098\n",
      "Loss at epo 310: 2.4456989765167236\n",
      "Loss at epo 320: 2.4339590072631836\n",
      "Loss at epo 330: 2.422466516494751\n",
      "Loss at epo 340: 2.4112164974212646\n",
      "Loss at epo 350: 2.4002015590667725\n",
      "Loss at epo 360: 2.3894171714782715\n",
      "Loss at epo 370: 2.378859281539917\n",
      "Loss at epo 380: 2.368525743484497\n",
      "Loss at epo 390: 2.3584117889404297\n",
      "Loss at epo 400: 2.3485140800476074\n",
      "Loss at epo 410: 2.338831663131714\n",
      "Loss at epo 420: 2.3293607234954834\n",
      "Loss at epo 430: 2.320098876953125\n",
      "Loss at epo 440: 2.311044454574585\n",
      "Loss at epo 450: 2.302194356918335\n",
      "Loss at epo 460: 2.2935469150543213\n",
      "Loss at epo 470: 2.2850992679595947\n",
      "Loss at epo 480: 2.276850700378418\n",
      "Loss at epo 490: 2.268798828125\n",
      "Loss at epo 500: 2.260941743850708\n",
      "Loss at epo 510: 2.253279209136963\n",
      "Loss at epo 520: 2.245807647705078\n",
      "Loss at epo 530: 2.2385263442993164\n",
      "Loss at epo 540: 2.231433629989624\n",
      "Loss at epo 550: 2.224527359008789\n",
      "Loss at epo 560: 2.217805862426758\n",
      "Loss at epo 570: 2.2112674713134766\n",
      "Loss at epo 580: 2.204909086227417\n",
      "Loss at epo 590: 2.198728561401367\n",
      "Loss at epo 600: 2.1927223205566406\n",
      "Loss at epo 610: 2.1868884563446045\n",
      "Loss at epo 620: 2.1812233924865723\n",
      "Loss at epo 630: 2.1757240295410156\n",
      "Loss at epo 640: 2.17038631439209\n",
      "Loss at epo 650: 2.165205240249634\n",
      "Loss at epo 660: 2.1601784229278564\n",
      "Loss at epo 670: 2.1552999019622803\n",
      "Loss at epo 680: 2.150566816329956\n",
      "Loss at epo 690: 2.1459736824035645\n",
      "Loss at epo 700: 2.1415164470672607\n",
      "Loss at epo 710: 2.1371893882751465\n",
      "Loss at epo 720: 2.132988929748535\n",
      "Loss at epo 730: 2.1289100646972656\n",
      "Loss at epo 740: 2.1249477863311768\n",
      "Loss at epo 750: 2.121098041534424\n",
      "Loss at epo 760: 2.117356300354004\n",
      "Loss at epo 770: 2.113717555999756\n",
      "Loss at epo 780: 2.110178232192993\n",
      "Loss at epo 790: 2.106733798980713\n",
      "Loss at epo 800: 2.103381633758545\n",
      "Loss at epo 810: 2.10011625289917\n",
      "Loss at epo 820: 2.096933603286743\n",
      "Loss at epo 830: 2.093832015991211\n",
      "Loss at epo 840: 2.090806484222412\n",
      "Loss at epo 850: 2.0878539085388184\n",
      "Loss at epo 860: 2.084972620010376\n",
      "Loss at epo 870: 2.082158088684082\n",
      "Loss at epo 880: 2.0794081687927246\n",
      "Loss at epo 890: 2.0767197608947754\n",
      "Loss at epo 900: 2.074089527130127\n",
      "Loss at epo 910: 2.071516752243042\n",
      "Loss at epo 920: 2.068997621536255\n",
      "Loss at epo 930: 2.066530704498291\n",
      "Loss at epo 940: 2.0641136169433594\n",
      "Loss at epo 950: 2.06174373626709\n",
      "Loss at epo 960: 2.059420585632324\n",
      "Loss at epo 970: 2.057140588760376\n",
      "Loss at epo 980: 2.054903268814087\n",
      "Loss at epo 990: 2.052706480026245\n"
     ]
    }
   ],
   "source": [
    "embedding_dims = 2\n",
    "W1 = Variable(torch.randn(embedding_dims, vocabulary_size).float(), requires_grad=True)\n",
    "W2 = Variable(torch.randn(vocabulary_size, embedding_dims).float(), requires_grad=True)\n",
    "num_epochs = 1000\n",
    "learning_rate = 0.001\n",
    "\n",
    "for epo in range(num_epochs):\n",
    "    loss_val = 0\n",
    "    for data, target in idx_pairs:\n",
    "        x = Variable(get_input_layer(data)).float()\n",
    "        y_true = Variable(torch.from_numpy(np.array([target])).long())\n",
    "\n",
    "        z1 = torch.matmul(W1, x)\n",
    "        z2 = torch.matmul(W2, z1)\n",
    "    \n",
    "        log_softmax = F.log_softmax(z2, dim=0)\n",
    "\n",
    "        loss = F.nll_loss(log_softmax.view(1,-1), y_true)\n",
    "        loss_val += loss.data[0]\n",
    "        loss.backward()\n",
    "        W1.data -= learning_rate * W1.grad.data\n",
    "        W2.data -= learning_rate * W2.grad.data\n",
    "\n",
    "        W1.grad.data.zero_()\n",
    "        W2.grad.data.zero_()\n",
    "    if epo % 10 == 0:    \n",
    "        print(f'Loss at epo {epo}: {loss_val/len(idx_pairs)}')"
   ]
  },
  {
   "cell_type": "code",
   "execution_count": 8,
   "metadata": {
    "collapsed": true
   },
   "outputs": [],
   "source": [
    "word_embeddings = (W1.transpose(0, 1)+W2).detach().numpy()/2"
   ]
  },
  {
   "cell_type": "code",
   "execution_count": 11,
   "metadata": {
    "collapsed": true
   },
   "outputs": [],
   "source": [
    "words = ['he', 'she', 'king', 'queen']\n",
    "indexes = [word2idx[word] for word in words]"
   ]
  },
  {
   "cell_type": "code",
   "execution_count": 12,
   "metadata": {},
   "outputs": [
    {
     "data": {
      "image/png": "[encoded data removed]",
      "text/plain": [
       "<matplotlib.figure.Figure at 0x1a1da602e8>"
      ]
     },
     "metadata": {},
     "output_type": "display_data"
    }
   ],
   "source": [
    "coordinates  = [word_embeddings[i,0:2] for i in indexes]\n",
    "xdata, ydata = zip(*coordinates)\n",
    "plt.plot(xdata, ydata, '*')\n",
    "for c, word in zip(coordinates, words):\n",
    "    plt.text(c[0], c[1], word)\n",
    "plt.show()"
   ]
  },
  {
   "cell_type": "code",
   "execution_count": null,
   "metadata": {
    "collapsed": true
   },
   "outputs": [],
   "source": []
  }
 ],
 "metadata": {
  "kernelspec": {
   "display_name": "Python 3",
   "language": "python",
   "name": "python3"
  },
  "language_info": {
   "codemirror_mode": {
    "name": "ipython",
    "version": 3
   },
   "file_extension": ".py",
   "mimetype": "text/x-python",
   "name": "python",
   "nbconvert_exporter": "python",
   "pygments_lexer": "ipython3",
   "version": "3.6.3"
  }
 },
 "nbformat": 4,
 "nbformat_minor": 2
}
