{
 "cells": [
  {
   "cell_type": "markdown",
   "metadata": {},
   "source": [
    "# PyTorch\n",
    "\n",
    "© Anatolii Stehnii, 2018\n",
    "\n",
    "This assignment should give you a basic understanding of main torch concepts: tensors, broadcasting, ~~variables~~ (obsolete for Pytorch 0.4.0),  autogradient, optimizers, modules."
   ]
  },
  {
   "cell_type": "code",
   "execution_count": 2,
   "metadata": {
    "collapsed": true
   },
   "outputs": [],
   "source": [
    "import torch"
   ]
  },
  {
   "cell_type": "markdown",
   "metadata": {},
   "source": [
    "## Tensor operations\n",
    "For **tensor**, torch has mostly similar to numpy API. "
   ]
  },
  {
   "cell_type": "code",
   "execution_count": 12,
   "metadata": {},
   "outputs": [
    {
     "data": {
      "text/plain": [
       "tensor([[ 0.1601,  0.2916],\n",
       "        [ 0.8702,  0.2465]])"
      ]
     },
     "execution_count": 12,
     "metadata": {},
     "output_type": "execute_result"
    }
   ],
   "source": [
    "x = torch.rand(2, 2)\n",
    "x"
   ]
  },
  {
   "cell_type": "code",
   "execution_count": 15,
   "metadata": {},
   "outputs": [
    {
     "data": {
      "text/plain": [
       "tensor([[ 0.4802,  0.8748],\n",
       "        [ 2.6105,  0.7394]])"
      ]
     },
     "execution_count": 15,
     "metadata": {},
     "output_type": "execute_result"
    }
   ],
   "source": [
    "x * 3"
   ]
  },
  {
   "cell_type": "code",
   "execution_count": 17,
   "metadata": {},
   "outputs": [
    {
     "data": {
      "text/plain": [
       "tensor([[ 1.1601,  1.2916],\n",
       "        [ 1.8702,  1.2465]])"
      ]
     },
     "execution_count": 17,
     "metadata": {},
     "output_type": "execute_result"
    }
   ],
   "source": [
    "x + 1"
   ]
  },
  {
   "cell_type": "markdown",
   "metadata": {},
   "source": [
    "Element-wise operations with two tensors:"
   ]
  },
  {
   "cell_type": "code",
   "execution_count": 18,
   "metadata": {},
   "outputs": [
    {
     "data": {
      "text/plain": [
       "tensor([[ 0.1639,  0.9313],\n",
       "        [ 0.0997,  0.9620]])"
      ]
     },
     "execution_count": 18,
     "metadata": {},
     "output_type": "execute_result"
    }
   ],
   "source": [
    "y = torch.rand(2, 2)\n",
    "y"
   ]
  },
  {
   "cell_type": "code",
   "execution_count": 19,
   "metadata": {},
   "outputs": [
    {
     "data": {
      "text/plain": [
       "tensor([[ 0.3240,  1.2229],\n",
       "        [ 0.9699,  1.2084]])"
      ]
     },
     "execution_count": 19,
     "metadata": {},
     "output_type": "execute_result"
    }
   ],
   "source": [
    "x + y"
   ]
  },
  {
   "cell_type": "code",
   "execution_count": 20,
   "metadata": {},
   "outputs": [
    {
     "data": {
      "text/plain": [
       "tensor([[ 0.9764,  0.3131],\n",
       "        [ 8.7277,  0.2562]])"
      ]
     },
     "execution_count": 20,
     "metadata": {},
     "output_type": "execute_result"
    }
   ],
   "source": [
    "x / y"
   ]
  },
  {
   "cell_type": "markdown",
   "metadata": {},
   "source": [
    "You only can perform element-wise operations on tensors with the same number of dimensions; however, sizes can be different:"
   ]
  },
  {
   "cell_type": "code",
   "execution_count": 21,
   "metadata": {},
   "outputs": [
    {
     "data": {
      "text/plain": [
       "tensor([[ 0.4346,  0.1989]])"
      ]
     },
     "execution_count": 21,
     "metadata": {},
     "output_type": "execute_result"
    }
   ],
   "source": [
    "z = torch.rand(1, 2)\n",
    "z"
   ]
  },
  {
   "cell_type": "code",
   "execution_count": 22,
   "metadata": {},
   "outputs": [
    {
     "data": {
      "text/plain": [
       "tensor([[ 0.0696,  0.0580],\n",
       "        [ 0.3782,  0.0490]])"
      ]
     },
     "execution_count": 22,
     "metadata": {},
     "output_type": "execute_result"
    }
   ],
   "source": [
    "z * x"
   ]
  },
  {
   "cell_type": "code",
   "execution_count": 24,
   "metadata": {},
   "outputs": [
    {
     "data": {
      "text/plain": [
       "tensor([[ 0.4038],\n",
       "        [ 0.5767]])"
      ]
     },
     "execution_count": 24,
     "metadata": {},
     "output_type": "execute_result"
    }
   ],
   "source": [
    "w = torch.rand(2, 1)\n",
    "w"
   ]
  },
  {
   "cell_type": "code",
   "execution_count": 25,
   "metadata": {},
   "outputs": [
    {
     "data": {
      "text/plain": [
       "tensor([[ 0.3964,  0.7221],\n",
       "        [ 1.5089,  0.4274]])"
      ]
     },
     "execution_count": 25,
     "metadata": {},
     "output_type": "execute_result"
    }
   ],
   "source": [
    "x / w"
   ]
  },
  {
   "cell_type": "markdown",
   "metadata": {},
   "source": [
    "This is called **broadcasting**: if we have two tensors of size $m\\times n\\times k$ and $m \\times 1 \\times k$, we can perform element-wise operations with them. The smaller tensor will be virtually clonned $n$ times along the second dimension to fit the size of the larger tensor. https://docs.scipy.org/doc/numpy-1.13.0/user/basics.broadcasting.html"
   ]
  },
  {
   "cell_type": "markdown",
   "metadata": {},
   "source": [
    "Tensor **dot product** is possible for two tensors of size $n_1\\times\\ldots n_{i-1}\\times n_i$ and $m_1\\times m_2 \\times\\ldots\\times m_k$ if $n_i = m_1$. The result will have dimensionality $n_1\\times\\ldots\\times n_{i-1}\\times m_2\\times\\ldots\\times m_k$"
   ]
  },
  {
   "cell_type": "code",
   "execution_count": 35,
   "metadata": {},
   "outputs": [
    {
     "data": {
      "text/plain": [
       "tensor([[ 0.2902]])"
      ]
     },
     "execution_count": 35,
     "metadata": {},
     "output_type": "execute_result"
    }
   ],
   "source": [
    "# inner product (1 x 2)*(2 x 1) = (1 x 1)\n",
    "z.mm(w)"
   ]
  },
  {
   "cell_type": "code",
   "execution_count": 34,
   "metadata": {},
   "outputs": [
    {
     "data": {
      "text/plain": [
       "tensor([[ 0.1755,  0.0803],\n",
       "        [ 0.2507,  0.1147]])"
      ]
     },
     "execution_count": 34,
     "metadata": {},
     "output_type": "execute_result"
    }
   ],
   "source": [
    "# outer product (2 x 1)*(1 x 2) = (2 x 2)\n",
    "w.mm(z)"
   ]
  },
  {
   "cell_type": "code",
   "execution_count": 37,
   "metadata": {},
   "outputs": [
    {
     "data": {
      "text/plain": [
       "tensor([[  24,   27,   31],\n",
       "        [  43,   47,   56],\n",
       "        [  77,   85,  100],\n",
       "        [  52,   59,   67]])"
      ]
     },
     "execution_count": 37,
     "metadata": {},
     "output_type": "execute_result"
    }
   ],
   "source": [
    "# (4 x 2)*(2 x 3) = (4 x 3)\n",
    "w1 = torch.tensor([[1,3], [5,4], [7,8], [1,7]])\n",
    "w2 = torch.tensor([[3,3,4], [7,8,9]])\n",
    "w1.mm(w2)"
   ]
  },
  {
   "cell_type": "markdown",
   "metadata": {},
   "source": [
    "### Assignment\n",
    "Write a code for a forward propagation of a simple neural network with one hidden layer. $\\textbf{x} \\in \\mathbb{R}^{10}, y \\in \\mathbb{R}^{1}, \\textbf{h} \\in \\mathbb{R}^{20}$. Select any nonlinearity you prefer. \n",
    "\n",
    "(Additional) Write down a code for a batch forward propagation of the same network."
   ]
  },
  {
   "cell_type": "code",
   "execution_count": 96,
   "metadata": {
    "collapsed": true
   },
   "outputs": [],
   "source": [
    "import numpy as np\n",
    "X = np.random.rand(50, 10)"
   ]
  },
  {
   "cell_type": "markdown",
   "metadata": {},
   "source": [
    "---\n",
    "\n",
    "## Autogradient\n",
    "\n",
    "Concept of computational graph is essential part of deep learning, because it allows us not to bother with deriving gradients for backpropagation. Torch `tensor` stores not only numerical data, but it also contains a reference to it's origin: an operation, which created this tensor and related tensors.\n",
    "\n",
    "*Note: In Torch, you are not forced to define a static computational graph before optimization. Order of your computations can be easily changed during execution as easy as for any ordinary algorithm. This way Torch allows to process dynamic structures like trees and graphs.*"
   ]
  },
  {
   "cell_type": "code",
   "execution_count": 101,
   "metadata": {},
   "outputs": [
    {
     "data": {
      "text/plain": [
       "tensor([[ 0.9748,  0.9281,  0.9093,  0.3735,  0.9701,  0.9616,  0.9895,\n",
       "          0.9634,  0.9531,  0.8809]])"
      ]
     },
     "execution_count": 101,
     "metadata": {},
     "output_type": "execute_result"
    }
   ],
   "source": [
    "from torch.nn import functional as F\n",
    "x = torch.rand(1, 5)\n",
    "W = torch.rand(5, 10, requires_grad=True)\n",
    "h = F.tanh(x.mm(W))\n",
    "h"
   ]
  },
  {
   "cell_type": "code",
   "execution_count": 102,
   "metadata": {},
   "outputs": [
    {
     "data": {
      "text/plain": [
       "<TanhBackward at 0x10ed0f128>"
      ]
     },
     "execution_count": 102,
     "metadata": {},
     "output_type": "execute_result"
    }
   ],
   "source": [
    "h.grad_fn"
   ]
  },
  {
   "cell_type": "code",
   "execution_count": 103,
   "metadata": {},
   "outputs": [
    {
     "data": {
      "text/plain": [
       "((<MmBackward at 0x10ed0f080>, 0),)"
      ]
     },
     "execution_count": 103,
     "metadata": {},
     "output_type": "execute_result"
    }
   ],
   "source": [
    "h.grad_fn.next_functions"
   ]
  },
  {
   "cell_type": "markdown",
   "metadata": {},
   "source": [
    "This allows to calculate an **autogradient** from each scalar, which is a result of operations with other tensors, which require gradient:"
   ]
  },
  {
   "cell_type": "code",
   "execution_count": 110,
   "metadata": {},
   "outputs": [
    {
     "data": {
      "text/plain": [
       "tensor([[ 0.0323,  0.0902,  0.1126,  0.5596,  0.0383,  0.0489,  0.0135,\n",
       "          0.0467,  0.0595,  0.1457],\n",
       "        [ 0.0471,  0.1315,  0.1643,  0.8160,  0.0559,  0.0714,  0.0197,\n",
       "          0.0681,  0.0868,  0.2125],\n",
       "        [ 0.0218,  0.0609,  0.0761,  0.3779,  0.0259,  0.0331,  0.0091,\n",
       "          0.0315,  0.0402,  0.0984],\n",
       "        [ 0.0471,  0.1316,  0.1643,  0.8165,  0.0559,  0.0714,  0.0198,\n",
       "          0.0682,  0.0869,  0.2126],\n",
       "        [ 0.0374,  0.1045,  0.1305,  0.6486,  0.0444,  0.0567,  0.0157,\n",
       "          0.0541,  0.0690,  0.1689]])"
      ]
     },
     "execution_count": 110,
     "metadata": {},
     "output_type": "execute_result"
    }
   ],
   "source": [
    "# backward can only be called for scalar\n",
    "if W.grad is not None:\n",
    "    W.grad.data.zero_()\n",
    "h.sum().backward(retain_graph=True)\n",
    "W.grad"
   ]
  },
  {
   "cell_type": "markdown",
   "metadata": {},
   "source": [
    "### Assignment\n",
    "Use provided $\\textbf{X}$ and $\\textbf{y}$ values to find gradient of RMSE loss with respect to parameters of your network."
   ]
  },
  {
   "cell_type": "code",
   "execution_count": 97,
   "metadata": {
    "collapsed": true
   },
   "outputs": [],
   "source": [
    "y = X[:, 0]*X[:, 1] + \\\n",
    "    np.log(X[:, 2]) + \\\n",
    "    (np.random.rand(5) * X[:, 3:8]).sum(axis=1) + \\\n",
    "    np.random.normal(0, 0.1, 50) "
   ]
  },
  {
   "cell_type": "markdown",
   "metadata": {},
   "source": [
    "---\n",
    "## Optimizer\n",
    "Having a gradient is enough to start training your network with a simple gradient descent; however, you can use more sophisticated optimization methods like Adam or Adagrad. This methods already implemented in torch and available in module `torch.optim` (https://pytorch.org/docs/stable/optim.html#module-torch.optim) :"
   ]
  },
  {
   "cell_type": "code",
   "execution_count": 111,
   "metadata": {
    "collapsed": true
   },
   "outputs": [],
   "source": [
    "from torch.optim import SGD, Adam\n",
    "# any optimizers accepts array of model parameters as the argument; \n",
    "# optimizer specific parameters comes next\n",
    "sgd = SGD([W], lr=0.1)\n",
    "adam = Adam([W], lr=0.1)"
   ]
  },
  {
   "cell_type": "code",
   "execution_count": 122,
   "metadata": {
    "collapsed": true
   },
   "outputs": [],
   "source": [
    "h_true = torch.tensor([1.0]*10)"
   ]
  },
  {
   "cell_type": "code",
   "execution_count": 154,
   "metadata": {},
   "outputs": [
    {
     "name": "stdout",
     "output_type": "stream",
     "text": [
      "Gradient sum: 0.4104\n",
      "Loss: 0.1271\n"
     ]
    }
   ],
   "source": [
    "sgd.zero_grad()\n",
    "\n",
    "h = F.tanh(x.mm(W))\n",
    "loss = torch.sqrt((h_true**2-h**2).sum())/10\n",
    "\n",
    "loss.backward()\n",
    "print('Gradient sum: {0:.4f}\\nLoss: {1:.4f}'.format(W.grad.abs().sum().item(), loss.item()))\n",
    "sgd.step()"
   ]
  },
  {
   "cell_type": "markdown",
   "metadata": {},
   "source": [
    "### Assignment\n",
    "Train your simple network with SGD optimizer, learning rate `0.01` and momentum `0.9`."
   ]
  },
  {
   "cell_type": "markdown",
   "metadata": {},
   "source": [
    "---\n",
    "## Module\n",
    "\n",
    "At this point, you already have everything you need to start training your network. Module is simply a handy way to organize your code into a separate unit and provide optimizer with a list of parameters:"
   ]
  },
  {
   "cell_type": "code",
   "execution_count": 184,
   "metadata": {},
   "outputs": [
    {
     "name": "stdout",
     "output_type": "stream",
     "text": [
      "Epoch 10, loss 9.7928, target 1.87\n",
      "Epoch 20, loss 4.9344, target 2.78\n",
      "Epoch 30, loss 2.0424, target 3.57\n",
      "Epoch 40, loss 0.6333, target 4.20\n",
      "Epoch 50, loss 0.1207, target 4.65\n",
      "Epoch 60, loss 0.0061, target 4.92\n",
      "Epoch 70, loss 0.0023, target 5.05\n",
      "Epoch 80, loss 0.0062, target 5.08\n",
      "Epoch 90, loss 0.0039, target 5.06\n",
      "Epoch 100, loss 0.0011, target 5.03\n"
     ]
    }
   ],
   "source": [
    "import torch.nn as nn\n",
    "import torch.nn.init as init\n",
    "\n",
    "class SimpleModule(nn.Module):\n",
    "    def __init__(self, in_dim, out_dim):\n",
    "        super(SimpleModule, self).__init__()\n",
    "        self.W = nn.Parameter(torch.empty(in_dim, out_dim))\n",
    "        init.normal_(self.W)\n",
    "        self.b = nn.Parameter(torch.zeros(out_dim))\n",
    "        \n",
    "    def forward(self, X):\n",
    "        return F.tanh(X.mm(self.W)) + self.b\n",
    "    \n",
    "model = SimpleModule(10, 1)\n",
    "optimizer = Adam(model.parameters(), lr=0.1)\n",
    "loss = nn.MSELoss()\n",
    "\n",
    "x = torch.rand(1, 10)\n",
    "y_true = torch.tensor([[5.0]])\n",
    "\n",
    "for epoch in range(100):\n",
    "    optimizer.zero_grad()\n",
    "    \n",
    "    y = model(x)\n",
    "    l = loss(y, y_true)\n",
    "    l.backward()\n",
    "    \n",
    "    optimizer.step()\n",
    "    if (epoch+1) % 10 == 0:\n",
    "        print('Epoch {0}, loss {1:.4f}, target {2:.2f}'.format(epoch+1, l.item(), y.item()))"
   ]
  },
  {
   "cell_type": "code",
   "execution_count": null,
   "metadata": {
    "collapsed": true
   },
   "outputs": [],
   "source": []
  }
 ],
 "metadata": {
  "kernelspec": {
   "display_name": "Python 3",
   "language": "python",
   "name": "python3"
  },
  "language_info": {
   "codemirror_mode": {
    "name": "ipython",
    "version": 3
   },
   "file_extension": ".py",
   "mimetype": "text/x-python",
   "name": "python",
   "nbconvert_exporter": "python",
   "pygments_lexer": "ipython3",
   "version": "3.6.3"
  }
 },
 "nbformat": 4,
 "nbformat_minor": 2
}
