{
 "cells": [
  {
   "cell_type": "markdown",
   "metadata": {},
   "source": [
    "# LSA\n",
    "\n",
    "© Anatolii Stehnii, 2018\n",
    "\n",
    "Main goal of this assignment is to give you a basic understanding of how Latent Semantic Analysis is performed and how to interpret it results. In this work you will calculate word embeddings using LSA for arbitrary text and explore their properties.\n",
    "\n",
    "Code from [Yuri Guts's Thrones2Vec](https://github.com/YuriyGuts/thrones2vec/blob/master/Thrones2Vec.ipynb) is used."
   ]
  },
  {
   "cell_type": "code",
   "execution_count": 1,
   "metadata": {},
   "outputs": [
    {
     "name": "stdout",
     "output_type": "stream",
     "text": [
      "env: LC_ALL=en_US.UTF-8\n",
      "env: LANG=en_US.UTF-8\n"
     ]
    }
   ],
   "source": [
    "%env LC_ALL=en_US.UTF-8\n",
    "%env LANG=en_US.UTF-8\n",
    "\n",
    "import os\n",
    "import re\n",
    "\n",
    "import nltk\n",
    "import numpy as np\n",
    "import matplotlib.pyplot as plt\n",
    "\n",
    "%matplotlib inline\n",
    "plt.rcParams['figure.figsize'] = [10, 10]"
   ]
  },
  {
   "cell_type": "markdown",
   "metadata": {},
   "source": [
    "## Corpus preprocessing"
   ]
  },
  {
   "cell_type": "markdown",
   "metadata": {},
   "source": [
    "First, download any text and save it in `./data/part1/corpus.txt`. I recommend you to use English text, but if you feel brave enough, you can setup a pipleline for any other language."
   ]
  },
  {
   "cell_type": "code",
   "execution_count": 14,
   "metadata": {},
   "outputs": [
    {
     "name": "stdout",
     "output_type": "stream",
     "text": [
      "Corpus is 9748084 characters long.\n"
     ]
    }
   ],
   "source": [
    "data_dir = \"../data/part1\"\n",
    "corpus_file = os.path.join(data_dir, \"corpus.txt\")\n",
    "\n",
    "with open(corpus_file, \"r\", ) as f:\n",
    "    corpus = f.read()\n",
    "print(\"Corpus is {0} characters long.\".format(len(corpus)))"
   ]
  },
  {
   "cell_type": "markdown",
   "metadata": {},
   "source": [
    "We need to split our corpus on documents and split documents on terms. Use English tokenizers from NLTK or create your own function."
   ]
  },
  {
   "cell_type": "code",
   "execution_count": 15,
   "metadata": {},
   "outputs": [
    {
     "name": "stdout",
     "output_type": "stream",
     "text": [
      "[nltk_data] Downloading package punkt to\n",
      "[nltk_data]     /Users/anatolii.stehnii/nltk_data...\n",
      "[nltk_data]   Package punkt is already up-to-date!\n"
     ]
    }
   ],
   "source": [
    "nltk.download(\"punkt\")\n",
    "nltk_english = nltk.data.load('tokenizers/punkt/english.pickle')\n",
    "# use this or define your own document_tokenize\n",
    "document_tokenize = lambda corpus: nltk_english.tokenize(corpus)\n",
    "\n",
    "# use this or define your own word_tokenize\n",
    "from nltk import word_tokenize"
   ]
  },
  {
   "cell_type": "code",
   "execution_count": 16,
   "metadata": {
    "collapsed": true
   },
   "outputs": [],
   "source": [
    "# split corpus on documents\n",
    "documents_raw = document_tokenize(corpus)\n",
    "# split documents on tokens\n",
    "documents = list(map(word_tokenize, documents_raw))"
   ]
  },
  {
   "cell_type": "code",
   "execution_count": 17,
   "metadata": {},
   "outputs": [
    {
     "data": {
      "text/plain": [
       "['``', 'The', 'wildlings', 'are', 'dead', '.', \"''\"]"
      ]
     },
     "execution_count": 17,
     "metadata": {},
     "output_type": "execute_result"
    }
   ],
   "source": [
    "documents[1]"
   ]
  },
  {
   "cell_type": "markdown",
   "metadata": {},
   "source": [
    "Add your preprocessing if needed or use default:"
   ]
  },
  {
   "cell_type": "code",
   "execution_count": 18,
   "metadata": {
    "collapsed": true
   },
   "outputs": [],
   "source": [
    "from nltk.stem import PorterStemmer\n",
    "ps = PorterStemmer()\n",
    "\n",
    "# default preprocessing – leave only alphabetical characters and stem tokens\n",
    "# redefine this function, if you need another pipeline\n",
    "def preprocess(word):\n",
    "    stem = ps.stem(word)\n",
    "    clean = re.sub(\"[^a-zA-Z]\",\"\", stem)\n",
    "    clean_lower = clean.lower()\n",
    "    return clean_lower"
   ]
  },
  {
   "cell_type": "code",
   "execution_count": 19,
   "metadata": {},
   "outputs": [
    {
     "name": "stdout",
     "output_type": "stream",
     "text": [
      "[nltk_data] Downloading package stopwords to\n",
      "[nltk_data]     /Users/anatolii.stehnii/nltk_data...\n",
      "[nltk_data]   Package stopwords is already up-to-date!\n"
     ]
    }
   ],
   "source": [
    "nltk.download(\"stopwords\")\n",
    "from nltk.corpus import stopwords\n",
    "stop_words = set(stopwords.words('english'))"
   ]
  },
  {
   "cell_type": "code",
   "execution_count": 25,
   "metadata": {
    "collapsed": true
   },
   "outputs": [],
   "source": [
    "# replace each word with preprocessed\n",
    "documents = [[preprocess(word) for word in document if word.lower() not in stop_words] for document in documents]\n",
    "# filter empty tokens\n",
    "documents = [[word for word in document if word] for document in documents]"
   ]
  },
  {
   "cell_type": "code",
   "execution_count": 26,
   "metadata": {},
   "outputs": [
    {
     "name": "stdout",
     "output_type": "stream",
     "text": [
      "Raw document: He was an old man, past fifty, and he had seen the lordlings come and go.\n",
      "\n",
      "Preprocessed document: ['old', 'man', 'past', 'fifti', 'seen', 'lordl', 'come', 'go']\n",
      "\n",
      "--------------------------------------------------------------------------------\n",
      "The corpus contains 912,299 tokens in 158,726 documents\n"
     ]
    }
   ],
   "source": [
    "# Compare raw and preprocessed documents\n",
    "print(\"Raw document: {}\\n\".format(documents_raw[5]))\n",
    "print(\"Preprocessed document: {}\\n\".format(documents[5]))\n",
    "print(\"-\"*80)\n",
    "token_count = sum([len(document) for document in documents])\n",
    "print(\"The corpus contains {0:,} tokens in {1:,} documents\".format(token_count, len(documents)))"
   ]
  },
  {
   "cell_type": "markdown",
   "metadata": {},
   "source": [
    "Here we are filtering rare words from our documents. We clearly will not be able to analyze a word, if it occurs only a few times in a text. Define your threshold for a minimum word occurence in the text to filter rare words."
   ]
  },
  {
   "cell_type": "code",
   "execution_count": 27,
   "metadata": {},
   "outputs": [
    {
     "name": "stdout",
     "output_type": "stream",
     "text": [
      "The corpus vocabulary contains 9,978 unique words, 0 with less than 3 occurences.\n"
     ]
    }
   ],
   "source": [
    "min_word_count = 3\n",
    "\n",
    "words_count = {}\n",
    "for d in documents:\n",
    "    for w in d:\n",
    "        if w in words_count:\n",
    "            words_count[w] += 1\n",
    "        else:\n",
    "            words_count[w] = 1\n",
    "\n",
    "rare_words = {w for w, count in words_count.items() if count < min_word_count}\n",
    "print(\"The corpus vocabulary contains {0:,} unique words, {1:,} with less than {2:} occurences.\".format(len(words_count), len(rare_words), min_word_count))"
   ]
  },
  {
   "cell_type": "markdown",
   "metadata": {},
   "source": [
    "Define your own set of stop words or use default from NLTK:"
   ]
  },
  {
   "cell_type": "code",
   "execution_count": 28,
   "metadata": {},
   "outputs": [
    {
     "name": "stdout",
     "output_type": "stream",
     "text": [
      "[nltk_data] Downloading package stopwords to\n",
      "[nltk_data]     /Users/anatolii.stehnii/nltk_data...\n",
      "[nltk_data]   Package stopwords is already up-to-date!\n"
     ]
    }
   ],
   "source": [
    "nltk.download(\"stopwords\")\n",
    "from nltk.corpus import stopwords\n",
    "stop_words = set(stopwords.words('english'))\n",
    "#stop_words = {'a', 'an', 'the'}"
   ]
  },
  {
   "cell_type": "code",
   "execution_count": 29,
   "metadata": {},
   "outputs": [
    {
     "name": "stdout",
     "output_type": "stream",
     "text": [
      "Filtered document: ['old', 'man', 'past', 'fifti', 'seen', 'lordl', 'come', 'go']\n",
      "--------------------------------------------------------------------------------\n",
      "A filtered vocabulary contains 9977 unique words\n"
     ]
    }
   ],
   "source": [
    "# remove stop words and rare words from documents\n",
    "remove_words = rare_words | stop_words\n",
    "documents = [[word for word in document if word not in remove_words] for document in documents]\n",
    "print(\"Filtered document: {}\" .format(documents[5]))\n",
    "print(\"-\"*80)\n",
    "\n",
    "all_words = {word for document in documents for word in document}\n",
    "vocabulary = {w:i for i, w in enumerate(sorted(all_words))}\n",
    "print(\"A filtered vocabulary contains {} unique words\".format(len(vocabulary)))"
   ]
  },
  {
   "cell_type": "markdown",
   "metadata": {},
   "source": [
    "## Term-document matrix"
   ]
  },
  {
   "cell_type": "markdown",
   "metadata": {},
   "source": [
    "Here you need to transform your corpus into term-document matrix of any type you want (BoW, TF-IDF). Use a sparse matrix, if you have large amount of data. Don't forget to save your vocabulary so you can restore a row index for each word."
   ]
  },
  {
   "cell_type": "code",
   "execution_count": 30,
   "metadata": {},
   "outputs": [],
   "source": [
    "from sklearn.feature_extraction.text import TfidfVectorizer\n",
    "tfidf = TfidfVectorizer(vocabulary=all_words)\n",
    "tfidf_docs = [' '.join(d) for d in documents]\n",
    "tf_idf_matrix = tfidf.fit_transform(tfidf_docs)"
   ]
  },
  {
   "cell_type": "code",
   "execution_count": 31,
   "metadata": {},
   "outputs": [
    {
     "data": {
      "text/plain": [
       "<158726x9977 sparse matrix of type '<class 'numpy.float64'>'\n",
       "\twith 891779 stored elements in Compressed Sparse Row format>"
      ]
     },
     "execution_count": 31,
     "metadata": {},
     "output_type": "execute_result"
    }
   ],
   "source": [
    "tf_idf_matrix"
   ]
  },
  {
   "cell_type": "markdown",
   "metadata": {},
   "source": [
    "## SVD\n",
    "\n",
    "Perform SVD of term-document matrix and reduce it's dimensionality to n_dim components. "
   ]
  },
  {
   "cell_type": "code",
   "execution_count": 32,
   "metadata": {
    "collapsed": true
   },
   "outputs": [],
   "source": [
    "n_dim = 20"
   ]
  },
  {
   "cell_type": "code",
   "execution_count": 33,
   "metadata": {},
   "outputs": [],
   "source": [
    "from sklearn.decomposition import TruncatedSVD\n",
    "svd = TruncatedSVD(n_dim)\n",
    "u = svd.fit_transform(tf_idf_matrix.T)"
   ]
  },
  {
   "cell_type": "code",
   "execution_count": 34,
   "metadata": {
    "collapsed": true
   },
   "outputs": [],
   "source": [
    "word_embeddings = u"
   ]
  },
  {
   "cell_type": "markdown",
   "metadata": {},
   "source": [
    "## Explore result"
   ]
  },
  {
   "cell_type": "markdown",
   "metadata": {},
   "source": [
    "Select a set of words you would like to explore."
   ]
  },
  {
   "cell_type": "code",
   "execution_count": 35,
   "metadata": {
    "collapsed": true
   },
   "outputs": [],
   "source": [
    "words = ['king', 'queen', 'robert', 'cersei', 'daeneri', 'man', 'woman']\n",
    "indexes = [vocabulary[word] for word in words]"
   ]
  },
  {
   "cell_type": "code",
   "execution_count": 36,
   "metadata": {},
   "outputs": [
    {
     "data": {
      "image/png": "[encoded data removed]",
      "text/plain": [
       "<matplotlib.figure.Figure at 0x1a2169e780>"
      ]
     },
     "metadata": {},
     "output_type": "display_data"
    }
   ],
   "source": [
    "word_vectors = [(word_embeddings[i, 0], word_embeddings[i, 1]) for i in indexes]\n",
    "xy = list(zip(*word_vectors))\n",
    "x=xy[0]\n",
    "y=xy[1]\n",
    "plt.plot(x, y, '*')\n",
    "\n",
    "for word, x, y in zip (words, x, y):\n",
    "    plt.text(x, y, word)\n",
    "\n",
    "plt.show()"
   ]
  },
  {
   "cell_type": "markdown",
   "metadata": {},
   "source": [
    "Create a plot with your words, use first two components for x and y."
   ]
  },
  {
   "cell_type": "markdown",
   "metadata": {},
   "source": [
    "### Word analogy\n",
    "1. Measure distances (cosine, euclidean) between test words.\n",
    "2. Check if distances have meaning."
   ]
  },
  {
   "cell_type": "code",
   "execution_count": 48,
   "metadata": {},
   "outputs": [
    {
     "name": "stdout",
     "output_type": "stream",
     "text": [
      "Similarity for words king and queen: 0.38262248782339203\n",
      "Similarity for words king and robert: 0.20129086518351225\n",
      "Similarity for words king and cersei: 0.7478332236321272\n",
      "Similarity for words king and daeneri: 0.8348700272712637\n",
      "Similarity for words king and man: 1.0328579398014928\n",
      "Similarity for words king and woman: 0.849243885816946\n",
      "Similarity for words queen and robert: 0.1990035184797786\n",
      "Similarity for words queen and cersei: 0.3361404197540756\n",
      "Similarity for words queen and daeneri: 0.2445403115619068\n",
      "Similarity for words queen and man: 0.6584062248668459\n",
      "Similarity for words queen and woman: 0.36560465026464073\n",
      "Similarity for words robert and cersei: 0.3739849676795839\n",
      "Similarity for words robert and daeneri: 0.4309901468262006\n",
      "Similarity for words robert and man: 0.9256020534333234\n",
      "Similarity for words robert and woman: 0.5142930491432093\n",
      "Similarity for words cersei and daeneri: 0.16393277399042683\n",
      "Similarity for words cersei and man: 0.9358999437693635\n",
      "Similarity for words cersei and woman: 0.31162580603842915\n",
      "Similarity for words daeneri and man: 0.7776438516989267\n",
      "Similarity for words daeneri and woman: 0.2997908168257212\n",
      "Similarity for words man and woman: 0.3262001481335963\n"
     ]
    }
   ],
   "source": [
    "import itertools\n",
    "from scipy.spatial.distance import cosine, euclidean\n",
    "\n",
    "for w1, w2 in itertools.combinations(words, 2):\n",
    "    v1 = word_embeddings[vocabulary[w1]]\n",
    "    v2 = word_embeddings[vocabulary[w2]]\n",
    "    distance = cosine(v1, v2)\n",
    "    print('Similarity for words {} and {}: {}'.format(w1, w2, distance))"
   ]
  },
  {
   "cell_type": "markdown",
   "metadata": {},
   "source": [
    "### Components meaning\n",
    "\n",
    "Try to find meaning for individual components: select words with the most high values and the most low values for some dimension."
   ]
  },
  {
   "cell_type": "code",
   "execution_count": 41,
   "metadata": {},
   "outputs": [
    {
     "data": {
      "text/plain": [
       "[('would', -7.533187053126823),\n",
       " ('know', -6.886688499259003),\n",
       " ('lord', -4.728021270568082),\n",
       " ('one', -4.564660283657913),\n",
       " ('could', -2.677117708172796),\n",
       " ('nt', -2.514082559526418),\n",
       " ('want', -2.2699717132060635),\n",
       " ('say', -1.9102692123559524),\n",
       " ('see', -1.8545201668093596),\n",
       " ('like', -1.7676718814295944),\n",
       " ('king', -1.5739949840394905),\n",
       " ('come', -1.5578939658533857),\n",
       " ('look', -1.5423676438908254),\n",
       " ('well', -1.4567513084253623),\n",
       " ('never', -1.3147301524310295),\n",
       " ('hand', -1.3087175147022414),\n",
       " ('men', -1.237275654788786),\n",
       " ('told', -1.2264982024571345),\n",
       " ('even', -1.1686564779673148),\n",
       " ('back', -1.1483799349946873),\n",
       " ('thought', -1.1465955067684148),\n",
       " ('ask', -1.1063004572618258),\n",
       " ('man', -1.080043062269019),\n",
       " ('go', -1.0649178728311939),\n",
       " ('father', -0.932498538413195),\n",
       " ('eye', -0.9184140837580944),\n",
       " ('take', -0.9019151446091814),\n",
       " ('us', -0.8945940893264667),\n",
       " ('time', -0.8702544054598159),\n",
       " ('son', -0.8073788060378302),\n",
       " ('day', -0.786350729826035),\n",
       " ('way', -0.7839541754850766),\n",
       " ('need', -0.7609325245294859),\n",
       " ('make', -0.7566121531659956),\n",
       " ('face', -0.7215726450732167),\n",
       " ('die', -0.7062228448788184),\n",
       " ('kill', -0.6874647600970514),\n",
       " ('think', -0.6869698976593129),\n",
       " ('long', -0.6861622759530884),\n",
       " ('brother', -0.6861042631785437),\n",
       " ('command', -0.673106387985992),\n",
       " ('knew', -0.6559514145999991),\n",
       " ('still', -0.6370682531748676),\n",
       " ('though', -0.6363780429822626),\n",
       " ('might', -0.6284870694444428),\n",
       " ('made', -0.6200378982447882),\n",
       " ('hi', -0.615172849883633),\n",
       " ('wall', -0.5984947580921043),\n",
       " ('whi', -0.5897669557910376),\n",
       " ('call', -0.5889584073734868)]"
      ]
     },
     "execution_count": 41,
     "metadata": {},
     "output_type": "execute_result"
    }
   ],
   "source": [
    "component = 1\n",
    "values = word_embeddings[:,component].tolist()\n",
    "\n",
    "word_values = list(sorted(zip(vocabulary.keys(), values), key=lambda x: x[1]))\n",
    "word_values[:50]"
   ]
  },
  {
   "cell_type": "code",
   "execution_count": 42,
   "metadata": {},
   "outputs": [
    {
     "data": {
      "text/plain": [
       "[('ygritt', 0.05026513092902153),\n",
       " ('bronn', 0.05514521923716343),\n",
       " ('sorri', 0.05577623875547464),\n",
       " ('uncertainli', 0.05697112996984601),\n",
       " ('arstan', 0.0576178274899608),\n",
       " ('sadli', 0.05908560680459496),\n",
       " ('podrick', 0.06023875748571065),\n",
       " ('tormund', 0.06220058950603515),\n",
       " ('shock', 0.0634293274188511),\n",
       " ('tom', 0.06379589938748746),\n",
       " ('oh', 0.06484204271663835),\n",
       " ('tone', 0.06682320558307783),\n",
       " ('loudli', 0.06694442004113364),\n",
       " ('angrili', 0.06698887730115809),\n",
       " ('gerri', 0.06989208619671157),\n",
       " ('bluntli', 0.07240590659027135),\n",
       " ('khaleesi', 0.0795237899752583),\n",
       " ('pyp', 0.07968689976851136),\n",
       " ('scorn', 0.08129975750611045),\n",
       " ('barristan', 0.08252685734205803),\n",
       " ('lem', 0.08549839274009191),\n",
       " ('quietli', 0.09240388823637476),\n",
       " ('luwin', 0.0927418500524789),\n",
       " ('haldon', 0.09337491309048697),\n",
       " ('vari', 0.09800510450071473),\n",
       " ('maester', 0.10122690318484907),\n",
       " ('stubbornli', 0.10340720263448336),\n",
       " ('grenn', 0.10677166595484901),\n",
       " ('brienn', 0.11028996700840257),\n",
       " ('robb', 0.1359015929539227),\n",
       " ('sam', 0.1392483561185341),\n",
       " ('davo', 0.1439448756856868),\n",
       " ('jorah', 0.14487780536537195),\n",
       " ('jojen', 0.1463138905608694),\n",
       " ('word', 0.1468133566996205),\n",
       " ('meera', 0.15437233588306284),\n",
       " ('softli', 0.15517264369310305),\n",
       " ('aye', 0.16546488745470317),\n",
       " ('sharpli', 0.17925218122131492),\n",
       " ('catelyn', 0.20785648470596294),\n",
       " ('jon', 0.24471573357559853),\n",
       " ('ned', 0.24599390395131818),\n",
       " ('hodor', 0.26436616064683394),\n",
       " ('ser', 0.2705952427583624),\n",
       " ('bran', 0.2886161413635267),\n",
       " ('voic', 0.3040319944072321),\n",
       " ('dani', 0.35931789293345456),\n",
       " ('ye', 0.6046295216478503),\n",
       " ('tyrion', 0.6894297718385408),\n",
       " ('said', 22.714477818644458)]"
      ]
     },
     "execution_count": 42,
     "metadata": {},
     "output_type": "execute_result"
    }
   ],
   "source": [
    "word_values[-50:]"
   ]
  },
  {
   "cell_type": "markdown",
   "metadata": {
    "collapsed": true
   },
   "source": [
    "## Save results\n",
    "We will need preprocessed dataset and word embeddings in the next assignment, so let's save it."
   ]
  },
  {
   "cell_type": "code",
   "execution_count": 43,
   "metadata": {
    "collapsed": true
   },
   "outputs": [],
   "source": [
    "# Store vocabulary as word per line. Indexes can be easily restored from order, therore they are ommited\n",
    "with open(os.path.join(data_dir, 'vocabulary.txt'), \"w\") as f:\n",
    "    vocab_str = '\\n'.join(vocabulary.keys())\n",
    "    f.write(vocab_str)"
   ]
  },
  {
   "cell_type": "code",
   "execution_count": 44,
   "metadata": {
    "collapsed": true
   },
   "outputs": [],
   "source": [
    "# Store corpus, document per line, each token replaced with index\n",
    "with open(os.path.join(data_dir, 'corpus_preprocessed.txt'), \"w\") as f:\n",
    "    corpus_str = '\\n'.join([' '.join([str(vocabulary[token]) for token in document]) for document in documents])\n",
    "    f.write(corpus_str)"
   ]
  },
  {
   "cell_type": "code",
   "execution_count": 45,
   "metadata": {
    "collapsed": true
   },
   "outputs": [],
   "source": [
    "# Store LSA embeddings\n",
    "np.save(os.path.join(data_dir, 'lsa_embeddings.npy'), word_embeddings)"
   ]
  },
  {
   "cell_type": "code",
   "execution_count": null,
   "metadata": {
    "collapsed": true
   },
   "outputs": [],
   "source": []
  }
 ],
 "metadata": {
  "kernelspec": {
   "display_name": "Python 3",
   "language": "python",
   "name": "python3"
  },
  "language_info": {
   "codemirror_mode": {
    "name": "ipython",
    "version": 3
   },
   "file_extension": ".py",
   "mimetype": "text/x-python",
   "name": "python",
   "nbconvert_exporter": "python",
   "pygments_lexer": "ipython3",
   "version": "3.6.3"
  }
 },
 "nbformat": 4,
 "nbformat_minor": 2
}
