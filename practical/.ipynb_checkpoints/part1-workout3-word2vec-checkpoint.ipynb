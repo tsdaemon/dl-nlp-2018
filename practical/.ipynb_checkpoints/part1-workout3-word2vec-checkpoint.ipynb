{
 "cells": [
  {
   "cell_type": "markdown",
   "metadata": {},
   "source": [
    "# Word2vec\n",
    "\n",
    "In this work you should implement Word2vec and compare it's results with LSA word embeddings."
   ]
  },
  {
   "cell_type": "code",
   "execution_count": 1,
   "metadata": {},
   "outputs": [
    {
     "name": "stdout",
     "output_type": "stream",
     "text": [
      "env: LC_ALL=en_US.UTF-8\n",
      "env: LANG=en_US.UTF-8\n"
     ]
    },
    {
     "data": {
      "text/plain": [
       "<torch._C.Generator at 0x1a0e71bf10>"
      ]
     },
     "execution_count": 1,
     "metadata": {},
     "output_type": "execute_result"
    }
   ],
   "source": [
    "%env LC_ALL=en_US.UTF-8\n",
    "%env LANG=en_US.UTF-8\n",
    "\n",
    "import os\n",
    "import math\n",
    "\n",
    "import nltk\n",
    "import numpy as np\n",
    "import matplotlib.pyplot as plt\n",
    "from tqdm import tqdm_notebook\n",
    "\n",
    "import torch\n",
    "import torch.nn as nn\n",
    "import torch.nn.functional as F\n",
    "import torch.optim as optim\n",
    "\n",
    "%matplotlib inline\n",
    "plt.rcParams['figure.figsize'] = [10, 10]\n",
    "\n",
    "torch.manual_seed(42)"
   ]
  },
  {
   "cell_type": "markdown",
   "metadata": {},
   "source": [
    "## Data preparation\n",
    "Idea is to compare LSA and Word2vec word embeddings. Therefore we need to use the same data as we used for LSA. Load `vocabulary.txt` as dictionary and `corpus_preprocessed.txt` as list of documents."
   ]
  },
  {
   "cell_type": "code",
   "execution_count": 2,
   "metadata": {
    "collapsed": true
   },
   "outputs": [],
   "source": [
    "data_dir = \"../data/part1\"\n",
    "corpus_file = os.path.join(data_dir, \"corpus_preprocessed.txt\")\n",
    "vocabulary_file = os.path.join(data_dir, \"vocabulary.txt\")"
   ]
  },
  {
   "cell_type": "code",
   "execution_count": 3,
   "metadata": {
    "collapsed": true
   },
   "outputs": [],
   "source": [
    "vocabulary = None  # your code here\n",
    "corpus = None  # your code here"
   ]
  },
  {
   "cell_type": "markdown",
   "metadata": {},
   "source": [
    "Next we need to prepare X and y data for training. You have two options: CBOW and skip-gram. To decide, take a reminder of your age divided by 2."
   ]
  },
  {
   "cell_type": "code",
   "execution_count": 4,
   "metadata": {},
   "outputs": [
    {
     "name": "stdout",
     "output_type": "stream",
     "text": [
      "Implementing CBOW\n"
     ]
    }
   ],
   "source": [
    "reminder = 1990 % 2\n",
    "if reminder == 0:\n",
    "    print('Implementing CBOW')\n",
    "else: \n",
    "    print('Implementing skip-gram')"
   ]
  },
  {
   "cell_type": "markdown",
   "metadata": {},
   "source": [
    "Both options are pretty straightforward in data preparation. You need to iterate over each word in a document (center word) and select all context words for predefined window size. For example, sentence \"Mike is a dog\" for window size = 2 will result in following pairs:\n",
    "\n",
    "| Center        | Context       | \n",
    "| ------------- |:-------------:| \n",
    "| Mike          | is            |\n",
    "| Mike          | a             |\n",
    "| is            | Mike          |\n",
    "| is            | a             |\n",
    "| is            | dog           |\n",
    "| a             | Mike          |\n",
    "| a             | is            |\n",
    "| a             | dog           |\n",
    "| dog           | is            |\n",
    "| dog           | a             |\n",
    "\n",
    "*Keep in mind, that our preprocessed corpus contains indices instead of actually words. Therefore your result should be pairs of indices.*"
   ]
  },
  {
   "cell_type": "code",
   "execution_count": 7,
   "metadata": {},
   "outputs": [
    {
     "data": {
      "application/vnd.jupyter.widget-view+json": {
       "model_id": "0acce8aff2f148bb80507310da6655ad",
       "version_major": 2,
       "version_minor": 0
      },
      "text/plain": [
       "A Jupyter Widget"
      ]
     },
     "metadata": {},
     "output_type": "display_data"
    },
    {
     "name": "stdout",
     "output_type": "stream",
     "text": [
      "\n"
     ]
    }
   ],
   "source": [
    "window_size = 2\n",
    "pairs = []\n",
    "\n",
    "# your code here\n",
    "\n",
    "pairs = torch.tensor(pairs)"
   ]
  },
  {
   "cell_type": "markdown",
   "metadata": {},
   "source": [
    "Select what (center or context) is your `x` and what is your `y`, according to your implementation (CBOW or skip-gram)."
   ]
  },
  {
   "cell_type": "code",
   "execution_count": 8,
   "metadata": {
    "collapsed": true
   },
   "outputs": [],
   "source": [
    "x = pairs[:, 1]\n",
    "y = pairs[:, 0]"
   ]
  },
  {
   "cell_type": "markdown",
   "metadata": {},
   "source": [
    "One-hot encoded vectors will be highly sparse and possibly wouldn't fit into your memory. But we don't need them. Module `nn.Embedding` can use word indices as input and `nn.NLLLoss` accepts true values as indices as well."
   ]
  },
  {
   "cell_type": "markdown",
   "metadata": {},
   "source": [
    "---\n",
    "## Neural Network\n",
    "\n",
    "Next we define a main module of our network. Write down code for `__init__` and `forward`. You may define `forward` for both `x` and `y` since we won't use this network for prediction, only for training. This way you can use module [`CrossEntropyLoss`](https://pytorch.org/docs/stable/nn.html#torch.nn.CrossEntropyLoss), which combines modules `Softmax` and [`NLLLoss`](https://pytorch.org/docs/stable/nn.html#torch.nn.NLLLoss) to simplify gradient calculation. Also, keep in mind, that `x` and `y` will contain batches of values."
   ]
  },
  {
   "cell_type": "code",
   "execution_count": 9,
   "metadata": {
    "collapsed": true
   },
   "outputs": [],
   "source": [
    "class Word2vecModule(nn.Module):\n",
    "    def __init__(self, vocabulary_length, embedding_dim):\n",
    "        super(Word2vecModule, self).__init__()\n",
    "        pass # your code here\n",
    "        \n",
    "    def forward(self, x, y):\n",
    "        pass # your code here"
   ]
  },
  {
   "cell_type": "markdown",
   "metadata": {},
   "source": [
    "What is coded, should be trained. Define your optimizer."
   ]
  },
  {
   "cell_type": "code",
   "execution_count": 10,
   "metadata": {
    "collapsed": true
   },
   "outputs": [],
   "source": [
    "n_embedding = 200\n",
    "word2vec = Word2vecModule(len(vocabulary), n_embedding)\n",
    "optimizer = optim.Adam(word2vec.parameters(), lr=0.001)"
   ]
  },
  {
   "cell_type": "code",
   "execution_count": 11,
   "metadata": {
    "collapsed": true
   },
   "outputs": [],
   "source": [
    "# shuffle training indices\n",
    "batch_indices = torch.randperm(x.shape[0])\n",
    "batch_size = 10000\n",
    "# prepare minibatch generator\n",
    "def batch_generator(batch_indices, batch_size):\n",
    "    batches = math.ceil(len(batch_indices)/batch_size)\n",
    "    for i in range(batches):\n",
    "        batch_start = i*batch_size\n",
    "        batch_end = (i+1)*batch_size\n",
    "        if batch_end > len(batch_indices):\n",
    "            yield x[batch_indices[batch_start:]], x[batch_indices[batch_start:]]\n",
    "        else:\n",
    "            yield x[batch_indices[batch_start:batch_end]], x[batch_indices[batch_start:batch_end]]"
   ]
  },
  {
   "cell_type": "code",
   "execution_count": null,
   "metadata": {},
   "outputs": [],
   "source": [
    "for epoch in range(100):\n",
    "    description = 'Training epoch {}'.format(epoch+1)\n",
    "    batches = math.ceil(len(batch_indices)/batch_size)\n",
    "    total_loss = 0\n",
    "    for x_batch, y_batch in tqdm_notebook(batch_generator(batch_indices, batch_size), desc=description, total=batches):\n",
    "        optimizer.zero_grad()\n",
    "        loss = word2vec(x_batch, y_batch)\n",
    "        loss.backward()\n",
    "        optimizer.step()\n",
    "        \n",
    "        total_loss += loss.item()\n",
    "    \n",
    "    print('Epoch finished, average loss: {0:.4f}'.format(total_loss/batches))"
   ]
  }
 ],
 "metadata": {
  "kernelspec": {
   "display_name": "Python 3",
   "language": "python",
   "name": "python3"
  },
  "language_info": {
   "codemirror_mode": {
    "name": "ipython",
    "version": 3
   },
   "file_extension": ".py",
   "mimetype": "text/x-python",
   "name": "python",
   "nbconvert_exporter": "python",
   "pygments_lexer": "ipython3",
   "version": "3.6.3"
  }
 },
 "nbformat": 4,
 "nbformat_minor": 2
}
