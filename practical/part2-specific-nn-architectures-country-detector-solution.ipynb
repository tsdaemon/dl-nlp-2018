{
 "cells": [
  {
   "cell_type": "markdown",
   "metadata": {},
   "source": [
    "# Practice: Specific Neural Architectures for NLP"
   ]
  },
  {
   "cell_type": "markdown",
   "metadata": {},
   "source": [
    "**_Yuriy Guts_**\n",
    "\n",
    "_UCU NLP Summer School, 2018_"
   ]
  },
  {
   "cell_type": "markdown",
   "metadata": {},
   "source": [
    "Based on a tutorial by Sean Robertson (<https://github.com/spro/practical-pytorch>)"
   ]
  },
  {
   "cell_type": "markdown",
   "metadata": {},
   "source": [
    "## Task"
   ]
  },
  {
   "cell_type": "markdown",
   "metadata": {},
   "source": [
    "We will be building and training a basic character-level RNN to classify\n",
    "words. A character-level RNN reads words as a series of characters -\n",
    "outputting a prediction and \"hidden state\" at each step, feeding its\n",
    "previous hidden state into each next step. We take the final prediction\n",
    "to be the output, i.e. which class the word belongs to.\n",
    "\n",
    "Specifically, we'll train on a few thousand surnames from 18 languages\n",
    "of origin, and predict which language a name is from based on the\n",
    "spelling:\n",
    "\n",
    "```\n",
    "> Hinton\n",
    "(-0.47) Scottish\n",
    "(-1.52) English\n",
    "(-3.57) Irish\n",
    "\n",
    "> Schmidhuber\n",
    "(-0.19) German\n",
    "(-2.48) Czech\n",
    "(-2.68) Dutch\n",
    "```"
   ]
  },
  {
   "cell_type": "markdown",
   "metadata": {},
   "source": [
    "## Imports"
   ]
  },
  {
   "cell_type": "code",
   "execution_count": 1,
   "metadata": {
    "collapsed": true
   },
   "outputs": [],
   "source": [
    "import glob\n",
    "import math\n",
    "import os\n",
    "import random\n",
    "import string\n",
    "import time\n",
    "import unicodedata\n",
    "\n",
    "import torch.nn as nn"
   ]
  },
  {
   "cell_type": "code",
   "execution_count": 2,
   "metadata": {
    "collapsed": true
   },
   "outputs": [],
   "source": [
    "%matplotlib inline"
   ]
  },
  {
   "cell_type": "markdown",
   "metadata": {},
   "source": [
    "## Prepare Dataset"
   ]
  },
  {
   "cell_type": "markdown",
   "metadata": {},
   "source": [
    "Included in the `data/names` directory are 18 text files named like `[Country].txt`. Each file contains a bunch of names, one name per line, mostly romanized (but we still need to convert from Unicode to ASCII).\n",
    "\n",
    "We'll end up with a dictionary of lists of names per country, {country: [names ...]}."
   ]
  },
  {
   "cell_type": "code",
   "execution_count": 3,
   "metadata": {
    "collapsed": true
   },
   "outputs": [],
   "source": [
    "data_files = glob.glob('../data/part2/names/*.txt')"
   ]
  },
  {
   "cell_type": "code",
   "execution_count": 4,
   "metadata": {
    "scrolled": true
   },
   "outputs": [
    {
     "name": "stdout",
     "output_type": "stream",
     "text": [
      "Ślusàrski -> Slusarski\n"
     ]
    }
   ],
   "source": [
    "unique_characters = string.ascii_letters + \" .,;'\"\n",
    "\n",
    "# Turn a Unicode string to plain ASCII, thanks to http://stackoverflow.com/a/518232/2809427\n",
    "def unicode_to_ascii(s):\n",
    "    return ''.join(\n",
    "        c for c in unicodedata.normalize('NFD', s)\n",
    "        if unicodedata.category(c) != 'Mn'\n",
    "        and c in unique_characters\n",
    "    )\n",
    "\n",
    "test_name = 'Ślusàrski'\n",
    "print(test_name, '->', unicode_to_ascii(test_name))"
   ]
  },
  {
   "cell_type": "code",
   "execution_count": 5,
   "metadata": {
    "collapsed": true
   },
   "outputs": [],
   "source": [
    "# Build the category_lines dictionary, a list of names per country\n",
    "examples_by_class = {}\n",
    "unique_classes = []\n",
    "\n",
    "def read_country_names(filename):\n",
    "    with open(filename, encoding='utf-8') as f:\n",
    "        lines = f.read().strip().split('\\n')\n",
    "        return [unicode_to_ascii(line) for line in lines]\n",
    "\n",
    "for filename in data_files:\n",
    "    country = os.path.splitext(os.path.basename(filename))[0]\n",
    "    unique_classes.append(country)\n",
    "    names = read_country_names(filename)\n",
    "    examples_by_class[country] = names"
   ]
  },
  {
   "cell_type": "code",
   "execution_count": 6,
   "metadata": {},
   "outputs": [
    {
     "data": {
      "text/plain": [
       "\"abcdefghijklmnopqrstuvwxyzABCDEFGHIJKLMNOPQRSTUVWXYZ .,;'\""
      ]
     },
     "execution_count": 6,
     "metadata": {},
     "output_type": "execute_result"
    }
   ],
   "source": [
    "unique_characters"
   ]
  },
  {
   "cell_type": "code",
   "execution_count": 7,
   "metadata": {},
   "outputs": [
    {
     "data": {
      "text/plain": [
       "['Czech',\n",
       " 'German',\n",
       " 'Arabic',\n",
       " 'Japanese',\n",
       " 'Chinese',\n",
       " 'Vietnamese',\n",
       " 'Russian',\n",
       " 'French',\n",
       " 'Irish',\n",
       " 'English',\n",
       " 'Spanish',\n",
       " 'Greek',\n",
       " 'Italian',\n",
       " 'Portuguese',\n",
       " 'Scottish',\n",
       " 'Dutch',\n",
       " 'Korean',\n",
       " 'Polish']"
      ]
     },
     "execution_count": 7,
     "metadata": {},
     "output_type": "execute_result"
    }
   ],
   "source": [
    "unique_classes"
   ]
  },
  {
   "cell_type": "markdown",
   "metadata": {},
   "source": [
    "Now we have ``examples_by_class``, a dictionary mapping each class\n",
    "(country) to a list of words (names).\n",
    "\n",
    "\n"
   ]
  },
  {
   "cell_type": "code",
   "execution_count": 8,
   "metadata": {
    "scrolled": true
   },
   "outputs": [
    {
     "name": "stdout",
     "output_type": "stream",
     "text": [
      "['Adamczak', 'Adamczyk', 'Andrysiak', 'Auttenberg', 'Bartosz']\n"
     ]
    }
   ],
   "source": [
    "print(examples_by_class['Polish'][:5])"
   ]
  },
  {
   "cell_type": "markdown",
   "metadata": {},
   "source": [
    "## Encode Dataset"
   ]
  },
  {
   "cell_type": "markdown",
   "metadata": {},
   "source": [
    "Now that we have all the names organized, we need to turn them into Tensors to make any use of them.\n",
    "\n",
    "To represent a single letter, we use a \"one-hot vector\" of size `<1 x len(unique_characters)>`. A one-hot vector is filled with 0-s except for a 1 at index of the current letter, e.g. `\"b\" = <0 1 0 0 0 ...>.`\n",
    "\n",
    "To make a word we join a bunch of those into a 2D matrix `<word_length x 1 x len(unique_characters)>`.\n",
    "\n",
    "That extra 1 dimension is because PyTorch assumes everything is in batches - we're just using a batch size of 1 here."
   ]
  },
  {
   "cell_type": "code",
   "execution_count": 9,
   "metadata": {
    "collapsed": true
   },
   "outputs": [],
   "source": [
    "import torch"
   ]
  },
  {
   "cell_type": "code",
   "execution_count": 10,
   "metadata": {
    "collapsed": true
   },
   "outputs": [],
   "source": [
    "character_to_index = dict(zip(unique_characters, range(len(unique_characters))))\n",
    "class_to_index = dict(zip(unique_classes, range(len(unique_classes))))\n",
    "index_to_class = {v: k for k, v in class_to_index.items()}\n",
    "\n",
    "def character_to_tensor(char):\n",
    "    tensor = torch.zeros(1, len(unique_characters))\n",
    "    tensor[0][character_to_index[char]] = 1\n",
    "    return tensor\n",
    "\n",
    "def word_to_tensor(word):\n",
    "    tensor = torch.zeros(len(word), 1, len(unique_characters))\n",
    "    for i, char in enumerate(word):\n",
    "        tensor[i][0][character_to_index[char]] = 1\n",
    "    return tensor\n",
    "\n",
    "def class_to_tensor(cls):\n",
    "    return torch.tensor([class_to_index[cls]], dtype=torch.long)"
   ]
  },
  {
   "cell_type": "code",
   "execution_count": 11,
   "metadata": {},
   "outputs": [
    {
     "name": "stdout",
     "output_type": "stream",
     "text": [
      "tensor([[ 0.,  0.,  0.,  0.,  0.,  0.,  0.,  0.,  0.,  0.,  0.,  0.,\n",
      "          0.,  0.,  0.,  0.,  0.,  0.,  0.,  0.,  0.,  0.,  0.,  0.,\n",
      "          0.,  0.,  0.,  1.,  0.,  0.,  0.,  0.,  0.,  0.,  0.,  0.,\n",
      "          0.,  0.,  0.,  0.,  0.,  0.,  0.,  0.,  0.,  0.,  0.,  0.,\n",
      "          0.,  0.,  0.,  0.,  0.,  0.,  0.,  0.,  0.]])\n",
      "torch.Size([1, 57])\n"
     ]
    }
   ],
   "source": [
    "print(character_to_tensor('B'))\n",
    "print(character_to_tensor('B').size())"
   ]
  },
  {
   "cell_type": "code",
   "execution_count": 12,
   "metadata": {
    "scrolled": true
   },
   "outputs": [
    {
     "name": "stdout",
     "output_type": "stream",
     "text": [
      "torch.Size([6, 1, 57])\n"
     ]
    }
   ],
   "source": [
    "print(word_to_tensor('Bishop').size())"
   ]
  },
  {
   "cell_type": "code",
   "execution_count": 13,
   "metadata": {},
   "outputs": [
    {
     "name": "stdout",
     "output_type": "stream",
     "text": [
      "tensor([ 9])\n"
     ]
    }
   ],
   "source": [
    "print(class_to_tensor('English'))"
   ]
  },
  {
   "cell_type": "markdown",
   "metadata": {},
   "source": [
    "## Create Neural Network"
   ]
  },
  {
   "cell_type": "code",
   "execution_count": 14,
   "metadata": {
    "collapsed": true
   },
   "outputs": [],
   "source": [
    "class RNN(nn.Module):\n",
    "    def __init__(self, input_size, hidden_size, output_size):\n",
    "        super(RNN, self).__init__()\n",
    "        self.hidden_size = hidden_size\n",
    "        self.i2h = nn.Linear(input_size + hidden_size, hidden_size)\n",
    "        self.i2o = nn.Linear(input_size + hidden_size, output_size)\n",
    "        self.softmax = nn.LogSoftmax(dim=1)\n",
    "\n",
    "    def forward(self, input, hidden):\n",
    "        combined = torch.cat((input, hidden), 1)\n",
    "        hidden = self.i2h(combined)\n",
    "        output = self.i2o(combined)\n",
    "        output = self.softmax(output)\n",
    "        return output, hidden\n",
    "\n",
    "    def init_hidden(self):\n",
    "        return torch.zeros(1, self.hidden_size)"
   ]
  },
  {
   "cell_type": "code",
   "execution_count": 15,
   "metadata": {
    "collapsed": true
   },
   "outputs": [],
   "source": [
    "n_hidden = 128\n",
    "rnn = RNN(len(unique_characters), n_hidden, len(unique_classes))\n",
    "\n",
    "loss_func = nn.NLLLoss()\n",
    "learning_rate = 0.005"
   ]
  },
  {
   "cell_type": "markdown",
   "metadata": {},
   "source": [
    "To run a step of this network we need to pass an input (in our case, the\n",
    "Tensor for the current character) and a previous hidden state (which we\n",
    "initialize as zeros at first). We'll get back the output (probability of\n",
    "each country) and a next hidden state (which we keep for the next\n",
    "step)."
   ]
  },
  {
   "cell_type": "code",
   "execution_count": 16,
   "metadata": {
    "scrolled": false
   },
   "outputs": [
    {
     "name": "stdout",
     "output_type": "stream",
     "text": [
      "torch.Size([1, 18])\n",
      "torch.Size([1, 128])\n"
     ]
    }
   ],
   "source": [
    "input = character_to_tensor('B')\n",
    "hidden = torch.zeros(1, n_hidden)\n",
    "output, next_hidden = rnn(input, hidden)\n",
    "\n",
    "print(output.size())\n",
    "print(next_hidden.size())"
   ]
  },
  {
   "cell_type": "markdown",
   "metadata": {},
   "source": [
    "For the sake of efficiency we don't want to be creating a new Tensor for\n",
    "every step, so we will use `word_to_tensor`` instead of\n",
    "``character_to_tensor`` and use slices. This could be further optimized by\n",
    "pre-computing batches of Tensors."
   ]
  },
  {
   "cell_type": "code",
   "execution_count": 17,
   "metadata": {},
   "outputs": [
    {
     "name": "stdout",
     "output_type": "stream",
     "text": [
      "torch.Size([1, 18])\n"
     ]
    }
   ],
   "source": [
    "input = word_to_tensor('Bishop')\n",
    "hidden = torch.zeros(1, n_hidden)\n",
    "\n",
    "output, next_hidden = rnn(input[0], hidden)\n",
    "print(output.size())"
   ]
  },
  {
   "cell_type": "markdown",
   "metadata": {},
   "source": [
    "As you can see the output is a ``<1 x len(unique_classes)>`` Tensor, where\n",
    "every item is the likelihood of that category (higher is more likely)."
   ]
  },
  {
   "cell_type": "code",
   "execution_count": 18,
   "metadata": {
    "collapsed": true
   },
   "outputs": [],
   "source": [
    "def get_random_training_sample():\n",
    "    cls = random.choice(unique_classes)\n",
    "    word = random.choice(examples_by_class[cls])\n",
    "    word_tensor = word_to_tensor(word)\n",
    "    class_tensor = class_to_tensor(cls)\n",
    "    return word, cls, word_tensor, class_tensor"
   ]
  },
  {
   "cell_type": "markdown",
   "metadata": {},
   "source": [
    "Each loop of training will:\n",
    "\n",
    "-  Create input and target tensors\n",
    "-  Create a zeroed initial hidden state\n",
    "-  Read each letter in and keep hidden state for next letter\n",
    "-  Compare final output to target\n",
    "-  Back-propagate\n",
    "-  Return the output and loss"
   ]
  },
  {
   "cell_type": "code",
   "execution_count": 19,
   "metadata": {
    "collapsed": true
   },
   "outputs": [],
   "source": [
    "def train_iter(word_tensor, class_tensor):\n",
    "    hidden = rnn.init_hidden()\n",
    "    rnn.zero_grad()\n",
    "    \n",
    "    for i in range(word_tensor.size()[0]):\n",
    "        output, hidden = rnn(word_tensor[i], hidden)\n",
    "\n",
    "    loss = loss_func(output, class_tensor)\n",
    "    loss.backward()\n",
    "\n",
    "    for p in rnn.parameters():\n",
    "        p.data.add_(-learning_rate, p.grad.data)\n",
    "\n",
    "    return output, loss.item()"
   ]
  },
  {
   "cell_type": "code",
   "execution_count": 20,
   "metadata": {
    "collapsed": true
   },
   "outputs": [],
   "source": [
    "def nn_output_to_class_label(output):\n",
    "    top_n, top_i = output.topk(1)\n",
    "    class_index = top_i[0].item()\n",
    "    return index_to_class[class_index], class_index"
   ]
  },
  {
   "cell_type": "markdown",
   "metadata": {},
   "source": [
    "Now we just have to run that with a bunch of examples. Since the\n",
    "``train`` function returns both the output and loss we can print its\n",
    "guesses and also keep track of loss for plotting. Since there are 1000s\n",
    "of examples we print only every ``print_every`` examples, and take an\n",
    "average of the loss.\n",
    "\n",
    "\n"
   ]
  },
  {
   "cell_type": "code",
   "execution_count": 21,
   "metadata": {},
   "outputs": [
    {
     "name": "stdout",
     "output_type": "stream",
     "text": [
      "5000 5% (0m 5s) 0.7421 Paraskevopoulos / Greek ✓\n",
      "10000 10% (0m 11s) 2.5039 Aller / German ✗ (Dutch)\n",
      "15000 15% (0m 16s) 2.6536 Novy Novy / Russian ✗ (Czech)\n",
      "20000 20% (0m 21s) 0.6788 Kotsilimbas / Greek ✓\n",
      "25000 25% (0m 26s) 0.5732 Petri / Italian ✓\n",
      "30000 30% (0m 31s) 0.7971 Gwozdek / Polish ✓\n",
      "35000 35% (0m 36s) 2.5664 Broz / Spanish ✗ (Polish)\n",
      "40000 40% (0m 41s) 1.6922 Mata / Spanish ✓\n",
      "45000 45% (0m 46s) 0.9504 Ellery / English ✓\n",
      "50000 50% (0m 51s) 0.8379 Staska / Czech ✓\n",
      "55000 55% (0m 56s) 0.3232 Dreschner / German ✓\n",
      "60000 60% (1m 1s) 2.3859 Hierro / Portuguese ✗ (Spanish)\n",
      "65000 65% (1m 6s) 0.6600 Porra / Spanish ✓\n",
      "70000 70% (1m 11s) 0.6135 Soares / Portuguese ✓\n",
      "75000 75% (1m 15s) 1.1557 Faure / French ✓\n",
      "80000 80% (1m 20s) 0.0174 Kozlowski / Polish ✓\n",
      "85000 85% (1m 25s) 0.1971 Stroggylis / Greek ✓\n",
      "90000 90% (1m 30s) 1.2789 Horton / Scottish ✗ (English)\n",
      "95000 95% (1m 35s) 2.3061 Toman / Arabic ✗ (Czech)\n",
      "100000 100% (1m 40s) 0.3930 Castro / Portuguese ✓\n"
     ]
    }
   ],
   "source": [
    "n_iters = 100000\n",
    "print_every = 5000\n",
    "plot_every = 1000\n",
    "\n",
    "# Keep track of losses for plotting\n",
    "current_loss = 0\n",
    "all_losses = []\n",
    "\n",
    "def time_since(since):\n",
    "    now = time.time()\n",
    "    s = now - since\n",
    "    m = math.floor(s / 60)\n",
    "    s -= m * 60\n",
    "    return '%dm %ds' % (m, s)\n",
    "\n",
    "start = time.time()\n",
    "\n",
    "for iter in range(1, n_iters + 1):\n",
    "    word, cls, word_tensor, class_tensor = get_random_training_sample()\n",
    "    output, loss = train_iter(word_tensor, class_tensor)\n",
    "    current_loss += loss\n",
    "\n",
    "    # Print iter number, loss, name and guess\n",
    "    if iter % print_every == 0:\n",
    "        guess, guess_i = nn_output_to_class_label(output)\n",
    "        correct = '✓' if guess == cls else '✗ (%s)' % cls\n",
    "        print('%d %d%% (%s) %.4f %s / %s %s' % (iter, iter / n_iters * 100, time_since(start), loss, word, guess, correct))\n",
    "\n",
    "    # Add current loss avg to list of losses\n",
    "    if iter % plot_every == 0:\n",
    "        all_losses.append(current_loss / plot_every)\n",
    "        current_loss = 0"
   ]
  },
  {
   "cell_type": "markdown",
   "metadata": {},
   "source": [
    "## Diagnose the Results\n",
    "\n",
    "Plotting the historical loss from ``all_losses`` shows the network\n",
    "learning:\n",
    "\n",
    "\n"
   ]
  },
  {
   "cell_type": "code",
   "execution_count": 22,
   "metadata": {},
   "outputs": [
    {
     "data": {
      "image/png": "[encoded data removed]",
      "text/plain": [
       "<matplotlib.figure.Figure at 0x118c7bc88>"
      ]
     },
     "metadata": {},
     "output_type": "display_data"
    }
   ],
   "source": [
    "import matplotlib.pyplot as plt\n",
    "import matplotlib.ticker as ticker\n",
    "\n",
    "plt.figure()\n",
    "plt.plot(all_losses)\n",
    "plt.show()"
   ]
  },
  {
   "cell_type": "code",
   "execution_count": 23,
   "metadata": {
    "collapsed": true
   },
   "outputs": [],
   "source": [
    "# Just return an output given a word tensor.\n",
    "def nn_output(word_tensor):\n",
    "    hidden = rnn.init_hidden()\n",
    "\n",
    "    for i in range(word_tensor.size()[0]):\n",
    "        output, hidden = rnn(word_tensor[i], hidden)\n",
    "\n",
    "    return output"
   ]
  },
  {
   "cell_type": "code",
   "execution_count": 24,
   "metadata": {
    "collapsed": true
   },
   "outputs": [],
   "source": [
    "def predict_top_k_classes(input_word, k=3):\n",
    "    print()\n",
    "    print('Predicting:', input_word)\n",
    "    \n",
    "    with torch.no_grad():\n",
    "        output = nn_output(word_to_tensor(input_word))\n",
    "\n",
    "        # Get top N categories\n",
    "        topv, topi = output.topk(k, 1, True)\n",
    "        predictions = []\n",
    "\n",
    "        for i in range(k):\n",
    "            value = topv[0][i].item()\n",
    "            category_index = topi[0][i].item()\n",
    "            print('(%.2f) %s' % (value, index_to_class[category_index]))\n",
    "            predictions.append([value, index_to_class[category_index]])"
   ]
  },
  {
   "cell_type": "markdown",
   "metadata": {},
   "source": [
    "Evaluating the Results\n",
    "======================\n",
    "\n",
    "To see how well the network performs on different categories, we will\n",
    "create a confusion matrix, indicating for every actual language (rows)\n",
    "which language the network guesses (columns). To calculate the confusion\n",
    "matrix a bunch of samples are run through the network with\n",
    "``nn_output()``, which is the same as ``train()`` minus the backprop.\n",
    "\n",
    "\n"
   ]
  },
  {
   "cell_type": "code",
   "execution_count": 25,
   "metadata": {
    "scrolled": true
   },
   "outputs": [
    {
     "data": {
      "image/png": "[encoded data removed]",
      "text/plain": [
       "<matplotlib.figure.Figure at 0x11c1cdef0>"
      ]
     },
     "metadata": {},
     "output_type": "display_data"
    }
   ],
   "source": [
    "# Keep track of correct guesses in a confusion matrix\n",
    "confusion = torch.zeros(len(unique_classes), len(unique_classes))\n",
    "n_confusion = 10000\n",
    "\n",
    "# Go through a bunch of examples and record which are correctly guessed\n",
    "for i in range(n_confusion):\n",
    "    word, cls, word_tensor, class_tensor = get_random_training_sample()\n",
    "    output = nn_output(word_tensor)\n",
    "    guess, guess_idx = nn_output_to_class_label(output)\n",
    "    class_idx = class_to_index[cls]\n",
    "    confusion[class_idx][guess_idx] += 1\n",
    "\n",
    "# Normalize by dividing every row by its sum\n",
    "for i in range(len(unique_classes)):\n",
    "    confusion[i] = confusion[i] / confusion[i].sum()\n",
    "\n",
    "# Set up plot\n",
    "fig = plt.figure()\n",
    "ax = fig.add_subplot(111)\n",
    "cax = ax.matshow(confusion.numpy())\n",
    "fig.colorbar(cax)\n",
    "\n",
    "# Set up axes\n",
    "ax.set_xticklabels([''] + unique_classes, rotation=90)\n",
    "ax.set_yticklabels([''] + unique_classes)\n",
    "\n",
    "# Force label at every tick\n",
    "ax.xaxis.set_major_locator(ticker.MultipleLocator(1))\n",
    "ax.yaxis.set_major_locator(ticker.MultipleLocator(1))\n",
    "\n",
    "# sphinx_gallery_thumbnail_number = 2\n",
    "plt.show()"
   ]
  },
  {
   "cell_type": "markdown",
   "metadata": {},
   "source": [
    "## Try your own input!"
   ]
  },
  {
   "cell_type": "code",
   "execution_count": 26,
   "metadata": {
    "scrolled": true
   },
   "outputs": [
    {
     "name": "stdout",
     "output_type": "stream",
     "text": [
      "\n",
      "Predicting: Shevchenko\n",
      "(-0.43) Russian\n",
      "(-1.47) Japanese\n",
      "(-2.91) Dutch\n"
     ]
    }
   ],
   "source": [
    "predict_top_k_classes('Shevchenko')"
   ]
  }
 ],
 "metadata": {
  "kernelspec": {
   "display_name": "Python 3",
   "language": "python",
   "name": "python3"
  },
  "language_info": {
   "codemirror_mode": {
    "name": "ipython",
    "version": 3
   },
   "file_extension": ".py",
   "mimetype": "text/x-python",
   "name": "python",
   "nbconvert_exporter": "python",
   "pygments_lexer": "ipython3",
   "version": "3.6.3"
  }
 },
 "nbformat": 4,
 "nbformat_minor": 2
}
