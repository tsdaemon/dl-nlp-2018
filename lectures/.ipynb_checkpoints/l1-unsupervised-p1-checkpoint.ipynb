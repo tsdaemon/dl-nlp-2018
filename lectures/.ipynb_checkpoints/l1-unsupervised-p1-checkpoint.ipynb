{
 "cells": [
  {
   "cell_type": "code",
   "execution_count": 19,
   "metadata": {},
   "outputs": [],
   "source": [
    "import numpy as np\n",
    "from scipy import spatial\n",
    "import nltk"
   ]
  },
  {
   "cell_type": "markdown",
   "metadata": {},
   "source": [
    "# Part 1: Usupervised learning\n",
    "## Meaning representation\n",
    "\n",
    "Numerical data have a natural meaning for computational machine. Numbers can be compared, or distance between vectors can be measured. "
   ]
  },
  {
   "cell_type": "code",
   "execution_count": 9,
   "metadata": {},
   "outputs": [
    {
     "data": {
      "text/plain": [
       "1.5156862774427124"
      ]
     },
     "execution_count": 9,
     "metadata": {},
     "output_type": "execute_result"
    }
   ],
   "source": [
    "a = [1, 5, 6]\n",
    "b = [-2, -6, 1]\n",
    "distance = spatial.distance.cosine(a, b)\n",
    "distance"
   ]
  },
  {
   "cell_type": "markdown",
   "metadata": {},
   "source": [
    "But this can not be easy done for words."
   ]
  },
  {
   "cell_type": "code",
   "execution_count": 11,
   "metadata": {
    "collapsed": true
   },
   "outputs": [],
   "source": [
    "a = ['Weather', 'is', 'good']\n",
    "b = ['Sun', 'is', 'shining']\n",
    "distance = None # ?"
   ]
  },
  {
   "cell_type": "markdown",
   "metadata": {},
   "source": [
    "Definition of **meaning**:\n",
    " 1. the logical connotation of a word or phrase;\n",
    " 2. what is intended to be, or actually is, expressed or indicated; signification;\n",
    " 3. the thing that is conveyed especially by language.\n",
    " \n",
    "Meaning of human language is a complex problem. The same words can have a different meaning in different contexts. Different words also can have a similar meaning (synonyms). Words with broader meaning can include meaning for more specific categories (hypernyms and hyponyms).\n",
    "\n",
    "The simple solution for meaning representation is to manually mark up a graph of relations between words (WordNet)."
   ]
  },
  {
   "cell_type": "code",
   "execution_count": 40,
   "metadata": {
    "collapsed": true
   },
   "outputs": [],
   "source": [
    "from nltk.corpus import wordnet as wn\n",
    "def synset_to_str(synset):\n",
    "    return '({}) {}'.format(synset.pos(), ', '.join(map(str, synset.lemma_names())))"
   ]
  },
  {
   "cell_type": "code",
   "execution_count": 41,
   "metadata": {},
   "outputs": [
    {
     "name": "stdout",
     "output_type": "stream",
     "text": [
      "(n) evil, immorality, wickedness, iniquity\n",
      "(n) evil\n",
      "(n) evil, evilness\n",
      "(a) evil\n",
      "(s) evil, vicious\n",
      "(s) malefic, malevolent, malign, evil\n"
     ]
    }
   ],
   "source": [
    "# synonyms\n",
    "for synset in wn.synsets('evil'):\n",
    "    print(synset_to_str(synset))"
   ]
  },
  {
   "cell_type": "code",
   "execution_count": 45,
   "metadata": {},
   "outputs": [
    {
     "name": "stdout",
     "output_type": "stream",
     "text": [
      "(n) feline, felid\n",
      "(n) carnivore\n",
      "(n) placental, placental_mammal, eutherian, eutherian_mammal\n",
      "(n) mammal, mammalian\n",
      "(n) vertebrate, craniate\n",
      "(n) chordate\n",
      "(n) animal, animate_being, beast, brute, creature, fauna\n",
      "(n) organism, being\n",
      "(n) living_thing, animate_thing\n",
      "(n) whole, unit\n",
      "(n) object, physical_object\n",
      "(n) physical_entity\n",
      "(n) entity\n"
     ]
    }
   ],
   "source": [
    "# hypernyms\n",
    "hypernyms = lambda s: s.hypernyms()\n",
    "cat = wn.synset('cat.n.01')\n",
    "for synset in list(cat.closure(hypernyms)):\n",
    "    print(synset_to_str(synset))"
   ]
  },
  {
   "cell_type": "code",
   "execution_count": 46,
   "metadata": {},
   "outputs": [
    {
     "name": "stdout",
     "output_type": "stream",
     "text": [
      "(n) domestic_cat, house_cat, Felis_domesticus, Felis_catus\n",
      "(n) wildcat\n",
      "(n) Abyssinian, Abyssinian_cat\n",
      "(n) alley_cat\n",
      "(n) Angora, Angora_cat\n",
      "(n) Burmese_cat\n",
      "(n) Egyptian_cat\n",
      "(n) kitty, kitty-cat, puss, pussy, pussycat\n",
      "(n) Maltese, Maltese_cat\n",
      "(n) Manx, Manx_cat\n",
      "(n) mouser\n",
      "(n) Persian_cat\n",
      "(n) Siamese_cat, Siamese\n",
      "(n) tabby, tabby_cat\n",
      "(n) tabby, queen\n",
      "(n) tiger_cat\n",
      "(n) tom, tomcat\n",
      "(n) tortoiseshell, tortoiseshell-cat, calico_cat\n",
      "(n) cougar, puma, catamount, mountain_lion, painter, panther, Felis_concolor\n",
      "(n) European_wildcat, catamountain, Felis_silvestris\n",
      "(n) jaguarundi, jaguarundi_cat, jaguarondi, eyra, Felis_yagouaroundi\n",
      "(n) jungle_cat, Felis_chaus\n",
      "(n) kaffir_cat, caffer_cat, Felis_ocreata\n",
      "(n) leopard_cat, Felis_bengalensis\n",
      "(n) lynx, catamount\n",
      "(n) manul, Pallas's_cat, Felis_manul\n",
      "(n) margay, margay_cat, Felis_wiedi\n",
      "(n) ocelot, panther_cat, Felis_pardalis\n",
      "(n) sand_cat\n",
      "(n) serval, Felis_serval\n",
      "(n) tiger_cat, Felis_tigrina\n",
      "(n) blue_point_Siamese\n",
      "(n) gib\n",
      "(n) bobcat, bay_lynx, Lynx_rufus\n",
      "(n) Canada_lynx, Lynx_canadensis\n",
      "(n) caracal, desert_lynx, Lynx_caracal\n",
      "(n) common_lynx, Lynx_lynx\n",
      "(n) spotted_lynx, Lynx_pardina\n"
     ]
    }
   ],
   "source": [
    "hyponyms = lambda s: s.hyponyms()\n",
    "for synset in list(cat.closure(hyponyms)):\n",
    "    print(synset_to_str(synset))"
   ]
  },
  {
   "cell_type": "code",
   "execution_count": null,
   "metadata": {
    "collapsed": true
   },
   "outputs": [],
   "source": []
  }
 ],
 "metadata": {
  "kernelspec": {
   "display_name": "Python 3",
   "language": "python",
   "name": "python3"
  },
  "language_info": {
   "codemirror_mode": {
    "name": "ipython",
    "version": 3
   },
   "file_extension": ".py",
   "mimetype": "text/x-python",
   "name": "python",
   "nbconvert_exporter": "python",
   "pygments_lexer": "ipython3",
   "version": "3.6.3"
  }
 },
 "nbformat": 4,
 "nbformat_minor": 2
}
