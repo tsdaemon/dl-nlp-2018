{
 "cells": [
  {
   "cell_type": "markdown",
   "metadata": {},
   "source": [
    "# Word2vec\n",
    "\n",
    "In this work you will calculate word embeddings with neural model and compare its results with LSA.\n",
    "\n",
    "Code from [Mateusz Bednarski](https://towardsdatascience.com/implementing-word2vec-in-pytorch-skip-gram-model-e6bae040d2fb) article is used."
   ]
  },
  {
   "cell_type": "code",
   "execution_count": 17,
   "metadata": {},
   "outputs": [
    {
     "name": "stdout",
     "output_type": "stream",
     "text": [
      "env: LC_ALL=en_US.UTF-8\n",
      "env: LANG=en_US.UTF-8\n"
     ]
    }
   ],
   "source": [
    "%env LC_ALL=en_US.UTF-8\n",
    "%env LANG=en_US.UTF-8\n",
    "\n",
    "import nltk\n",
    "import torch\n",
    "from torch.autograd import Variable\n",
    "import torch.nn.functional as F\n",
    "import numpy as np\n",
    "import matplotlib.pyplot as plt\n",
    "%matplotlib inline\n",
    "plt.rcParams['figure.figsize'] = [10, 10]"
   ]
  },
  {
   "cell_type": "code",
   "execution_count": 2,
   "metadata": {
    "collapsed": true
   },
   "outputs": [],
   "source": [
    "from nltk import word_tokenize\n",
    "corpus = [\n",
    "    'he is a king',\n",
    "    'she is a queen',\n",
    "    'he is a man',\n",
    "    'she is a woman',\n",
    "    'warsaw is poland capital',\n",
    "    'berlin is germany capital',\n",
    "    'paris is france capital',\n",
    "]\n",
    "tokenized_corpus = list(map(word_tokenize, corpus))"
   ]
  },
  {
   "cell_type": "code",
   "execution_count": 3,
   "metadata": {},
   "outputs": [],
   "source": [
    "vocabulary = []\n",
    "for sentence in tokenized_corpus:\n",
    "    for token in sentence:\n",
    "        if token not in vocabulary:\n",
    "            vocabulary.append(token)\n",
    "\n",
    "word2idx = {w: idx for (idx, w) in enumerate(vocabulary)}\n",
    "idx2word = {idx: w for (idx, w) in enumerate(vocabulary)}\n",
    "\n",
    "vocabulary_size = len(vocabulary)"
   ]
  },
  {
   "cell_type": "code",
   "execution_count": 6,
   "metadata": {},
   "outputs": [],
   "source": [
    "window_size = 2\n",
    "idx_pairs = []\n",
    "# for each sentence\n",
    "for sentence in tokenized_corpus:\n",
    "    indices = [word2idx[word] for word in sentence]\n",
    "    # for each word, threated as center word\n",
    "    for center_word_pos in range(len(indices)):\n",
    "        # for each window position\n",
    "        for w in range(-window_size, window_size + 1):\n",
    "            context_word_pos = center_word_pos + w\n",
    "            # make soure not jump out sentence\n",
    "            if context_word_pos < 0 or context_word_pos >= len(indices) or center_word_pos == context_word_pos:\n",
    "                continue\n",
    "            context_word_idx = indices[context_word_pos]\n",
    "            idx_pairs.append((indices[center_word_pos], context_word_idx))\n",
    "\n",
    "idx_pairs = np.array(idx_pairs)"
   ]
  },
  {
   "cell_type": "code",
   "execution_count": 11,
   "metadata": {
    "collapsed": true
   },
   "outputs": [],
   "source": [
    "def get_input_layer(word_idx):\n",
    "    x = torch.zeros(vocabulary_size).float()\n",
    "    x[word_idx] = 1.0\n",
    "    return x"
   ]
  },
  {
   "cell_type": "code",
   "execution_count": 58,
   "metadata": {},
   "outputs": [
    {
     "name": "stderr",
     "output_type": "stream",
     "text": [
      "/Users/anatolii.stehnii/anaconda3/lib/python3.6/site-packages/ipykernel_launcher.py:19: UserWarning: invalid index of a 0-dim tensor. This will be an error in PyTorch 0.5. Use tensor.item() to convert a 0-dim tensor to a Python number\n"
     ]
    },
    {
     "name": "stdout",
     "output_type": "stream",
     "text": [
      "Loss at epo 0: 3.979033946990967\n",
      "Loss at epo 10: 3.661947727203369\n",
      "Loss at epo 20: 3.4799723625183105\n",
      "Loss at epo 30: 3.343569755554199\n",
      "Loss at epo 40: 3.231966018676758\n",
      "Loss at epo 50: 3.137739419937134\n",
      "Loss at epo 60: 3.0568394660949707\n",
      "Loss at epo 70: 2.9865193367004395\n",
      "Loss at epo 80: 2.9247448444366455\n",
      "Loss at epo 90: 2.869946241378784\n",
      "Loss at epo 100: 2.820887327194214\n",
      "Loss at epo 110: 2.7765796184539795\n",
      "Loss at epo 120: 2.7362301349639893\n",
      "Loss at epo 130: 2.699187994003296\n",
      "Loss at epo 140: 2.6649293899536133\n",
      "Loss at epo 150: 2.633019208908081\n",
      "Loss at epo 160: 2.6030995845794678\n",
      "Loss at epo 170: 2.574877977371216\n",
      "Loss at epo 180: 2.5481083393096924\n",
      "Loss at epo 190: 2.5225889682769775\n",
      "Loss at epo 200: 2.498152494430542\n",
      "Loss at epo 210: 2.474661350250244\n",
      "Loss at epo 220: 2.4520013332366943\n",
      "Loss at epo 230: 2.430082082748413\n",
      "Loss at epo 240: 2.408829689025879\n",
      "Loss at epo 250: 2.388183355331421\n",
      "Loss at epo 260: 2.3680992126464844\n",
      "Loss at epo 270: 2.3485405445098877\n",
      "Loss at epo 280: 2.329484224319458\n",
      "Loss at epo 290: 2.310906410217285\n",
      "Loss at epo 300: 2.2927958965301514\n",
      "Loss at epo 310: 2.2751426696777344\n",
      "Loss at epo 320: 2.257939100265503\n",
      "Loss at epo 330: 2.2411820888519287\n",
      "Loss at epo 340: 2.224865198135376\n",
      "Loss at epo 350: 2.2089858055114746\n",
      "Loss at epo 360: 2.1935367584228516\n",
      "Loss at epo 370: 2.178514242172241\n",
      "Loss at epo 380: 2.1639108657836914\n",
      "Loss at epo 390: 2.1497182846069336\n",
      "Loss at epo 400: 2.135927677154541\n",
      "Loss at epo 410: 2.1225321292877197\n",
      "Loss at epo 420: 2.109520673751831\n",
      "Loss at epo 430: 2.0968844890594482\n",
      "Loss at epo 440: 2.084615707397461\n",
      "Loss at epo 450: 2.072706460952759\n",
      "Loss at epo 460: 2.0611460208892822\n",
      "Loss at epo 470: 2.0499305725097656\n",
      "Loss at epo 480: 2.039052724838257\n",
      "Loss at epo 490: 2.028506278991699\n",
      "Loss at epo 500: 2.0182862281799316\n",
      "Loss at epo 510: 2.0083870887756348\n",
      "Loss at epo 520: 1.9988043308258057\n",
      "Loss at epo 530: 1.9895330667495728\n",
      "Loss at epo 540: 1.980568528175354\n",
      "Loss at epo 550: 1.9719057083129883\n",
      "Loss at epo 560: 1.963538646697998\n",
      "Loss at epo 570: 1.9554611444473267\n",
      "Loss at epo 580: 1.9476675987243652\n",
      "Loss at epo 590: 1.9401497840881348\n",
      "Loss at epo 600: 1.932900309562683\n",
      "Loss at epo 610: 1.925910472869873\n",
      "Loss at epo 620: 1.9191715717315674\n",
      "Loss at epo 630: 1.9126745462417603\n",
      "Loss at epo 640: 1.9064091444015503\n",
      "Loss at epo 650: 1.900365948677063\n",
      "Loss at epo 660: 1.8945344686508179\n",
      "Loss at epo 670: 1.8889046907424927\n",
      "Loss at epo 680: 1.8834668397903442\n",
      "Loss at epo 690: 1.8782100677490234\n",
      "Loss at epo 700: 1.8731255531311035\n",
      "Loss at epo 710: 1.8682045936584473\n",
      "Loss at epo 720: 1.8634369373321533\n",
      "Loss at epo 730: 1.8588143587112427\n",
      "Loss at epo 740: 1.8543298244476318\n",
      "Loss at epo 750: 1.8499749898910522\n",
      "Loss at epo 760: 1.845742106437683\n",
      "Loss at epo 770: 1.8416255712509155\n",
      "Loss at epo 780: 1.8376185894012451\n",
      "Loss at epo 790: 1.8337152004241943\n",
      "Loss at epo 800: 1.8299102783203125\n",
      "Loss at epo 810: 1.8261981010437012\n",
      "Loss at epo 820: 1.8225741386413574\n",
      "Loss at epo 830: 1.819034457206726\n",
      "Loss at epo 840: 1.8155736923217773\n",
      "Loss at epo 850: 1.8121882677078247\n",
      "Loss at epo 860: 1.8088749647140503\n",
      "Loss at epo 870: 1.805628776550293\n",
      "Loss at epo 880: 1.802446722984314\n",
      "Loss at epo 890: 1.7993260622024536\n",
      "Loss at epo 900: 1.7962640523910522\n",
      "Loss at epo 910: 1.7932571172714233\n",
      "Loss at epo 920: 1.7903028726577759\n",
      "Loss at epo 930: 1.787397861480713\n",
      "Loss at epo 940: 1.7845410108566284\n",
      "Loss at epo 950: 1.781727910041809\n",
      "Loss at epo 960: 1.7789579629898071\n",
      "Loss at epo 970: 1.7762280702590942\n",
      "Loss at epo 980: 1.7735360860824585\n",
      "Loss at epo 990: 1.7708803415298462\n"
     ]
    }
   ],
   "source": [
    "embedding_dims = 5\n",
    "W1 = Variable(torch.randn(embedding_dims, vocabulary_size).float(), requires_grad=True)\n",
    "W2 = Variable(torch.randn(vocabulary_size, embedding_dims).float(), requires_grad=True)\n",
    "num_epochs = 1000\n",
    "learning_rate = 0.001\n",
    "\n",
    "for epo in range(num_epochs):\n",
    "    loss_val = 0\n",
    "    for data, target in idx_pairs:\n",
    "        x = Variable(get_input_layer(data)).float()\n",
    "        y_true = Variable(torch.from_numpy(np.array([target])).long())\n",
    "\n",
    "        z1 = torch.matmul(W1, x)\n",
    "        z2 = torch.matmul(W2, z1)\n",
    "    \n",
    "        log_softmax = F.log_softmax(z2, dim=0)\n",
    "\n",
    "        loss = F.nll_loss(log_softmax.view(1,-1), y_true)\n",
    "        loss_val += loss.data[0]\n",
    "        loss.backward()\n",
    "        W1.data -= learning_rate * W1.grad.data\n",
    "        W2.data -= learning_rate * W2.grad.data\n",
    "\n",
    "        W1.grad.data.zero_()\n",
    "        W2.grad.data.zero_()\n",
    "    if epo % 10 == 0:    \n",
    "        print(f'Loss at epo {epo}: {loss_val/len(idx_pairs)}')"
   ]
  },
  {
   "cell_type": "code",
   "execution_count": 59,
   "metadata": {},
   "outputs": [],
   "source": [
    "word_embeddings = (W1.transpose(0, 1)+W2).detach().numpy()/2"
   ]
  },
  {
   "cell_type": "code",
   "execution_count": 60,
   "metadata": {
    "collapsed": true
   },
   "outputs": [],
   "source": [
    "words = ['paris', 'france', 'warsaw', 'poland', 'berlin', 'germany']\n",
    "indexes = [word2idx[word] for word in words]"
   ]
  },
  {
   "cell_type": "code",
   "execution_count": 61,
   "metadata": {},
   "outputs": [
    {
     "data": {
      "image/png": "[encoded data removed]",
      "text/plain": [
       "<matplotlib.figure.Figure at 0x1a1c2f7518>"
      ]
     },
     "metadata": {},
     "output_type": "display_data"
    }
   ],
   "source": [
    "coordinates  = [word_embeddings[i,0:2] for i in indexes]\n",
    "xdata, ydata = zip(*coordinates)\n",
    "plt.plot(xdata, ydata, '*')\n",
    "for c, word in zip(coordinates, words):\n",
    "    plt.text(c[0], c[1], word)\n",
    "plt.show()"
   ]
  },
  {
   "cell_type": "code",
   "execution_count": null,
   "metadata": {
    "collapsed": true
   },
   "outputs": [],
   "source": []
  }
 ],
 "metadata": {
  "kernelspec": {
   "display_name": "Python 3",
   "language": "python",
   "name": "python3"
  },
  "language_info": {
   "codemirror_mode": {
    "name": "ipython",
    "version": 3
   },
   "file_extension": ".py",
   "mimetype": "text/x-python",
   "name": "python",
   "nbconvert_exporter": "python",
   "pygments_lexer": "ipython3",
   "version": "3.6.3"
  }
 },
 "nbformat": 4,
 "nbformat_minor": 2
}
